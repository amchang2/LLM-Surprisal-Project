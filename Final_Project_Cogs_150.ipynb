{
  "nbformat": 4,
  "nbformat_minor": 0,
  "metadata": {
    "colab": {
      "provenance": [],
      "include_colab_link": true
    },
    "kernelspec": {
      "name": "python3",
      "display_name": "Python 3"
    },
    "language_info": {
      "name": "python"
    },
    "widgets": {
      "application/vnd.jupyter.widget-state+json": {
        "f78f0fddfdad4b51994e16af93f2fd51": {
          "model_module": "@jupyter-widgets/controls",
          "model_name": "HBoxModel",
          "model_module_version": "1.5.0",
          "state": {
            "_dom_classes": [],
            "_model_module": "@jupyter-widgets/controls",
            "_model_module_version": "1.5.0",
            "_model_name": "HBoxModel",
            "_view_count": null,
            "_view_module": "@jupyter-widgets/controls",
            "_view_module_version": "1.5.0",
            "_view_name": "HBoxView",
            "box_style": "",
            "children": [
              "IPY_MODEL_92eaf3d276884b2991cdd0c6816c9b46",
              "IPY_MODEL_b133d91cf5dc4025b2adf36e18498545",
              "IPY_MODEL_2852bc8034e24beeb617fd0ebbc9fdf9"
            ],
            "layout": "IPY_MODEL_a3f8bae9a70b4e539d271fd223a7b77c"
          }
        },
        "92eaf3d276884b2991cdd0c6816c9b46": {
          "model_module": "@jupyter-widgets/controls",
          "model_name": "HTMLModel",
          "model_module_version": "1.5.0",
          "state": {
            "_dom_classes": [],
            "_model_module": "@jupyter-widgets/controls",
            "_model_module_version": "1.5.0",
            "_model_name": "HTMLModel",
            "_view_count": null,
            "_view_module": "@jupyter-widgets/controls",
            "_view_module_version": "1.5.0",
            "_view_name": "HTMLView",
            "description": "",
            "description_tooltip": null,
            "layout": "IPY_MODEL_a6bd59cdb0ee4741b10d837118de4549",
            "placeholder": "​",
            "style": "IPY_MODEL_791b339fd4234f3b96d2bff6348f518c",
            "value": "tokenizer_config.json: 100%"
          }
        },
        "b133d91cf5dc4025b2adf36e18498545": {
          "model_module": "@jupyter-widgets/controls",
          "model_name": "FloatProgressModel",
          "model_module_version": "1.5.0",
          "state": {
            "_dom_classes": [],
            "_model_module": "@jupyter-widgets/controls",
            "_model_module_version": "1.5.0",
            "_model_name": "FloatProgressModel",
            "_view_count": null,
            "_view_module": "@jupyter-widgets/controls",
            "_view_module_version": "1.5.0",
            "_view_name": "ProgressView",
            "bar_style": "success",
            "description": "",
            "description_tooltip": null,
            "layout": "IPY_MODEL_46be17ddc55c4bb296ca91bbb7484f62",
            "max": 26,
            "min": 0,
            "orientation": "horizontal",
            "style": "IPY_MODEL_0bf9e6fb272c4657ac2ae29e42fd673e",
            "value": 26
          }
        },
        "2852bc8034e24beeb617fd0ebbc9fdf9": {
          "model_module": "@jupyter-widgets/controls",
          "model_name": "HTMLModel",
          "model_module_version": "1.5.0",
          "state": {
            "_dom_classes": [],
            "_model_module": "@jupyter-widgets/controls",
            "_model_module_version": "1.5.0",
            "_model_name": "HTMLModel",
            "_view_count": null,
            "_view_module": "@jupyter-widgets/controls",
            "_view_module_version": "1.5.0",
            "_view_name": "HTMLView",
            "description": "",
            "description_tooltip": null,
            "layout": "IPY_MODEL_1b0a5d4c5f354922a558bb1855ac14f4",
            "placeholder": "​",
            "style": "IPY_MODEL_629f1b4ae8314869bb2eabbaa8ed0e1b",
            "value": " 26.0/26.0 [00:00&lt;00:00, 159B/s]"
          }
        },
        "a3f8bae9a70b4e539d271fd223a7b77c": {
          "model_module": "@jupyter-widgets/base",
          "model_name": "LayoutModel",
          "model_module_version": "1.2.0",
          "state": {
            "_model_module": "@jupyter-widgets/base",
            "_model_module_version": "1.2.0",
            "_model_name": "LayoutModel",
            "_view_count": null,
            "_view_module": "@jupyter-widgets/base",
            "_view_module_version": "1.2.0",
            "_view_name": "LayoutView",
            "align_content": null,
            "align_items": null,
            "align_self": null,
            "border": null,
            "bottom": null,
            "display": null,
            "flex": null,
            "flex_flow": null,
            "grid_area": null,
            "grid_auto_columns": null,
            "grid_auto_flow": null,
            "grid_auto_rows": null,
            "grid_column": null,
            "grid_gap": null,
            "grid_row": null,
            "grid_template_areas": null,
            "grid_template_columns": null,
            "grid_template_rows": null,
            "height": null,
            "justify_content": null,
            "justify_items": null,
            "left": null,
            "margin": null,
            "max_height": null,
            "max_width": null,
            "min_height": null,
            "min_width": null,
            "object_fit": null,
            "object_position": null,
            "order": null,
            "overflow": null,
            "overflow_x": null,
            "overflow_y": null,
            "padding": null,
            "right": null,
            "top": null,
            "visibility": null,
            "width": null
          }
        },
        "a6bd59cdb0ee4741b10d837118de4549": {
          "model_module": "@jupyter-widgets/base",
          "model_name": "LayoutModel",
          "model_module_version": "1.2.0",
          "state": {
            "_model_module": "@jupyter-widgets/base",
            "_model_module_version": "1.2.0",
            "_model_name": "LayoutModel",
            "_view_count": null,
            "_view_module": "@jupyter-widgets/base",
            "_view_module_version": "1.2.0",
            "_view_name": "LayoutView",
            "align_content": null,
            "align_items": null,
            "align_self": null,
            "border": null,
            "bottom": null,
            "display": null,
            "flex": null,
            "flex_flow": null,
            "grid_area": null,
            "grid_auto_columns": null,
            "grid_auto_flow": null,
            "grid_auto_rows": null,
            "grid_column": null,
            "grid_gap": null,
            "grid_row": null,
            "grid_template_areas": null,
            "grid_template_columns": null,
            "grid_template_rows": null,
            "height": null,
            "justify_content": null,
            "justify_items": null,
            "left": null,
            "margin": null,
            "max_height": null,
            "max_width": null,
            "min_height": null,
            "min_width": null,
            "object_fit": null,
            "object_position": null,
            "order": null,
            "overflow": null,
            "overflow_x": null,
            "overflow_y": null,
            "padding": null,
            "right": null,
            "top": null,
            "visibility": null,
            "width": null
          }
        },
        "791b339fd4234f3b96d2bff6348f518c": {
          "model_module": "@jupyter-widgets/controls",
          "model_name": "DescriptionStyleModel",
          "model_module_version": "1.5.0",
          "state": {
            "_model_module": "@jupyter-widgets/controls",
            "_model_module_version": "1.5.0",
            "_model_name": "DescriptionStyleModel",
            "_view_count": null,
            "_view_module": "@jupyter-widgets/base",
            "_view_module_version": "1.2.0",
            "_view_name": "StyleView",
            "description_width": ""
          }
        },
        "46be17ddc55c4bb296ca91bbb7484f62": {
          "model_module": "@jupyter-widgets/base",
          "model_name": "LayoutModel",
          "model_module_version": "1.2.0",
          "state": {
            "_model_module": "@jupyter-widgets/base",
            "_model_module_version": "1.2.0",
            "_model_name": "LayoutModel",
            "_view_count": null,
            "_view_module": "@jupyter-widgets/base",
            "_view_module_version": "1.2.0",
            "_view_name": "LayoutView",
            "align_content": null,
            "align_items": null,
            "align_self": null,
            "border": null,
            "bottom": null,
            "display": null,
            "flex": null,
            "flex_flow": null,
            "grid_area": null,
            "grid_auto_columns": null,
            "grid_auto_flow": null,
            "grid_auto_rows": null,
            "grid_column": null,
            "grid_gap": null,
            "grid_row": null,
            "grid_template_areas": null,
            "grid_template_columns": null,
            "grid_template_rows": null,
            "height": null,
            "justify_content": null,
            "justify_items": null,
            "left": null,
            "margin": null,
            "max_height": null,
            "max_width": null,
            "min_height": null,
            "min_width": null,
            "object_fit": null,
            "object_position": null,
            "order": null,
            "overflow": null,
            "overflow_x": null,
            "overflow_y": null,
            "padding": null,
            "right": null,
            "top": null,
            "visibility": null,
            "width": null
          }
        },
        "0bf9e6fb272c4657ac2ae29e42fd673e": {
          "model_module": "@jupyter-widgets/controls",
          "model_name": "ProgressStyleModel",
          "model_module_version": "1.5.0",
          "state": {
            "_model_module": "@jupyter-widgets/controls",
            "_model_module_version": "1.5.0",
            "_model_name": "ProgressStyleModel",
            "_view_count": null,
            "_view_module": "@jupyter-widgets/base",
            "_view_module_version": "1.2.0",
            "_view_name": "StyleView",
            "bar_color": null,
            "description_width": ""
          }
        },
        "1b0a5d4c5f354922a558bb1855ac14f4": {
          "model_module": "@jupyter-widgets/base",
          "model_name": "LayoutModel",
          "model_module_version": "1.2.0",
          "state": {
            "_model_module": "@jupyter-widgets/base",
            "_model_module_version": "1.2.0",
            "_model_name": "LayoutModel",
            "_view_count": null,
            "_view_module": "@jupyter-widgets/base",
            "_view_module_version": "1.2.0",
            "_view_name": "LayoutView",
            "align_content": null,
            "align_items": null,
            "align_self": null,
            "border": null,
            "bottom": null,
            "display": null,
            "flex": null,
            "flex_flow": null,
            "grid_area": null,
            "grid_auto_columns": null,
            "grid_auto_flow": null,
            "grid_auto_rows": null,
            "grid_column": null,
            "grid_gap": null,
            "grid_row": null,
            "grid_template_areas": null,
            "grid_template_columns": null,
            "grid_template_rows": null,
            "height": null,
            "justify_content": null,
            "justify_items": null,
            "left": null,
            "margin": null,
            "max_height": null,
            "max_width": null,
            "min_height": null,
            "min_width": null,
            "object_fit": null,
            "object_position": null,
            "order": null,
            "overflow": null,
            "overflow_x": null,
            "overflow_y": null,
            "padding": null,
            "right": null,
            "top": null,
            "visibility": null,
            "width": null
          }
        },
        "629f1b4ae8314869bb2eabbaa8ed0e1b": {
          "model_module": "@jupyter-widgets/controls",
          "model_name": "DescriptionStyleModel",
          "model_module_version": "1.5.0",
          "state": {
            "_model_module": "@jupyter-widgets/controls",
            "_model_module_version": "1.5.0",
            "_model_name": "DescriptionStyleModel",
            "_view_count": null,
            "_view_module": "@jupyter-widgets/base",
            "_view_module_version": "1.2.0",
            "_view_name": "StyleView",
            "description_width": ""
          }
        },
        "659c2879df444380a38d9bf8cd82545a": {
          "model_module": "@jupyter-widgets/controls",
          "model_name": "HBoxModel",
          "model_module_version": "1.5.0",
          "state": {
            "_dom_classes": [],
            "_model_module": "@jupyter-widgets/controls",
            "_model_module_version": "1.5.0",
            "_model_name": "HBoxModel",
            "_view_count": null,
            "_view_module": "@jupyter-widgets/controls",
            "_view_module_version": "1.5.0",
            "_view_name": "HBoxView",
            "box_style": "",
            "children": [
              "IPY_MODEL_231cfce7a6934a1a908181641302a9f7",
              "IPY_MODEL_b29ff88241924f0a8335d9a993b7f553",
              "IPY_MODEL_8a3126de446b4b4786bb78233bdd35d1"
            ],
            "layout": "IPY_MODEL_0ffa9169f78e44e69f525a12c2909d4f"
          }
        },
        "231cfce7a6934a1a908181641302a9f7": {
          "model_module": "@jupyter-widgets/controls",
          "model_name": "HTMLModel",
          "model_module_version": "1.5.0",
          "state": {
            "_dom_classes": [],
            "_model_module": "@jupyter-widgets/controls",
            "_model_module_version": "1.5.0",
            "_model_name": "HTMLModel",
            "_view_count": null,
            "_view_module": "@jupyter-widgets/controls",
            "_view_module_version": "1.5.0",
            "_view_name": "HTMLView",
            "description": "",
            "description_tooltip": null,
            "layout": "IPY_MODEL_83cdd2ff05154718b76f9aa8ff7dab62",
            "placeholder": "​",
            "style": "IPY_MODEL_31b017e5c1e748fabe854cf48f08f131",
            "value": "config.json: 100%"
          }
        },
        "b29ff88241924f0a8335d9a993b7f553": {
          "model_module": "@jupyter-widgets/controls",
          "model_name": "FloatProgressModel",
          "model_module_version": "1.5.0",
          "state": {
            "_dom_classes": [],
            "_model_module": "@jupyter-widgets/controls",
            "_model_module_version": "1.5.0",
            "_model_name": "FloatProgressModel",
            "_view_count": null,
            "_view_module": "@jupyter-widgets/controls",
            "_view_module_version": "1.5.0",
            "_view_name": "ProgressView",
            "bar_style": "success",
            "description": "",
            "description_tooltip": null,
            "layout": "IPY_MODEL_c63903472aff45028d7deb20f23810e9",
            "max": 665,
            "min": 0,
            "orientation": "horizontal",
            "style": "IPY_MODEL_6b96e88cba8f4ee9911b5d02103be7aa",
            "value": 665
          }
        },
        "8a3126de446b4b4786bb78233bdd35d1": {
          "model_module": "@jupyter-widgets/controls",
          "model_name": "HTMLModel",
          "model_module_version": "1.5.0",
          "state": {
            "_dom_classes": [],
            "_model_module": "@jupyter-widgets/controls",
            "_model_module_version": "1.5.0",
            "_model_name": "HTMLModel",
            "_view_count": null,
            "_view_module": "@jupyter-widgets/controls",
            "_view_module_version": "1.5.0",
            "_view_name": "HTMLView",
            "description": "",
            "description_tooltip": null,
            "layout": "IPY_MODEL_e20b2928485e4c85a672a6eabef4568f",
            "placeholder": "​",
            "style": "IPY_MODEL_0f400182bbce4e1b83de4fe5154187be",
            "value": " 665/665 [00:00&lt;00:00, 6.39kB/s]"
          }
        },
        "0ffa9169f78e44e69f525a12c2909d4f": {
          "model_module": "@jupyter-widgets/base",
          "model_name": "LayoutModel",
          "model_module_version": "1.2.0",
          "state": {
            "_model_module": "@jupyter-widgets/base",
            "_model_module_version": "1.2.0",
            "_model_name": "LayoutModel",
            "_view_count": null,
            "_view_module": "@jupyter-widgets/base",
            "_view_module_version": "1.2.0",
            "_view_name": "LayoutView",
            "align_content": null,
            "align_items": null,
            "align_self": null,
            "border": null,
            "bottom": null,
            "display": null,
            "flex": null,
            "flex_flow": null,
            "grid_area": null,
            "grid_auto_columns": null,
            "grid_auto_flow": null,
            "grid_auto_rows": null,
            "grid_column": null,
            "grid_gap": null,
            "grid_row": null,
            "grid_template_areas": null,
            "grid_template_columns": null,
            "grid_template_rows": null,
            "height": null,
            "justify_content": null,
            "justify_items": null,
            "left": null,
            "margin": null,
            "max_height": null,
            "max_width": null,
            "min_height": null,
            "min_width": null,
            "object_fit": null,
            "object_position": null,
            "order": null,
            "overflow": null,
            "overflow_x": null,
            "overflow_y": null,
            "padding": null,
            "right": null,
            "top": null,
            "visibility": null,
            "width": null
          }
        },
        "83cdd2ff05154718b76f9aa8ff7dab62": {
          "model_module": "@jupyter-widgets/base",
          "model_name": "LayoutModel",
          "model_module_version": "1.2.0",
          "state": {
            "_model_module": "@jupyter-widgets/base",
            "_model_module_version": "1.2.0",
            "_model_name": "LayoutModel",
            "_view_count": null,
            "_view_module": "@jupyter-widgets/base",
            "_view_module_version": "1.2.0",
            "_view_name": "LayoutView",
            "align_content": null,
            "align_items": null,
            "align_self": null,
            "border": null,
            "bottom": null,
            "display": null,
            "flex": null,
            "flex_flow": null,
            "grid_area": null,
            "grid_auto_columns": null,
            "grid_auto_flow": null,
            "grid_auto_rows": null,
            "grid_column": null,
            "grid_gap": null,
            "grid_row": null,
            "grid_template_areas": null,
            "grid_template_columns": null,
            "grid_template_rows": null,
            "height": null,
            "justify_content": null,
            "justify_items": null,
            "left": null,
            "margin": null,
            "max_height": null,
            "max_width": null,
            "min_height": null,
            "min_width": null,
            "object_fit": null,
            "object_position": null,
            "order": null,
            "overflow": null,
            "overflow_x": null,
            "overflow_y": null,
            "padding": null,
            "right": null,
            "top": null,
            "visibility": null,
            "width": null
          }
        },
        "31b017e5c1e748fabe854cf48f08f131": {
          "model_module": "@jupyter-widgets/controls",
          "model_name": "DescriptionStyleModel",
          "model_module_version": "1.5.0",
          "state": {
            "_model_module": "@jupyter-widgets/controls",
            "_model_module_version": "1.5.0",
            "_model_name": "DescriptionStyleModel",
            "_view_count": null,
            "_view_module": "@jupyter-widgets/base",
            "_view_module_version": "1.2.0",
            "_view_name": "StyleView",
            "description_width": ""
          }
        },
        "c63903472aff45028d7deb20f23810e9": {
          "model_module": "@jupyter-widgets/base",
          "model_name": "LayoutModel",
          "model_module_version": "1.2.0",
          "state": {
            "_model_module": "@jupyter-widgets/base",
            "_model_module_version": "1.2.0",
            "_model_name": "LayoutModel",
            "_view_count": null,
            "_view_module": "@jupyter-widgets/base",
            "_view_module_version": "1.2.0",
            "_view_name": "LayoutView",
            "align_content": null,
            "align_items": null,
            "align_self": null,
            "border": null,
            "bottom": null,
            "display": null,
            "flex": null,
            "flex_flow": null,
            "grid_area": null,
            "grid_auto_columns": null,
            "grid_auto_flow": null,
            "grid_auto_rows": null,
            "grid_column": null,
            "grid_gap": null,
            "grid_row": null,
            "grid_template_areas": null,
            "grid_template_columns": null,
            "grid_template_rows": null,
            "height": null,
            "justify_content": null,
            "justify_items": null,
            "left": null,
            "margin": null,
            "max_height": null,
            "max_width": null,
            "min_height": null,
            "min_width": null,
            "object_fit": null,
            "object_position": null,
            "order": null,
            "overflow": null,
            "overflow_x": null,
            "overflow_y": null,
            "padding": null,
            "right": null,
            "top": null,
            "visibility": null,
            "width": null
          }
        },
        "6b96e88cba8f4ee9911b5d02103be7aa": {
          "model_module": "@jupyter-widgets/controls",
          "model_name": "ProgressStyleModel",
          "model_module_version": "1.5.0",
          "state": {
            "_model_module": "@jupyter-widgets/controls",
            "_model_module_version": "1.5.0",
            "_model_name": "ProgressStyleModel",
            "_view_count": null,
            "_view_module": "@jupyter-widgets/base",
            "_view_module_version": "1.2.0",
            "_view_name": "StyleView",
            "bar_color": null,
            "description_width": ""
          }
        },
        "e20b2928485e4c85a672a6eabef4568f": {
          "model_module": "@jupyter-widgets/base",
          "model_name": "LayoutModel",
          "model_module_version": "1.2.0",
          "state": {
            "_model_module": "@jupyter-widgets/base",
            "_model_module_version": "1.2.0",
            "_model_name": "LayoutModel",
            "_view_count": null,
            "_view_module": "@jupyter-widgets/base",
            "_view_module_version": "1.2.0",
            "_view_name": "LayoutView",
            "align_content": null,
            "align_items": null,
            "align_self": null,
            "border": null,
            "bottom": null,
            "display": null,
            "flex": null,
            "flex_flow": null,
            "grid_area": null,
            "grid_auto_columns": null,
            "grid_auto_flow": null,
            "grid_auto_rows": null,
            "grid_column": null,
            "grid_gap": null,
            "grid_row": null,
            "grid_template_areas": null,
            "grid_template_columns": null,
            "grid_template_rows": null,
            "height": null,
            "justify_content": null,
            "justify_items": null,
            "left": null,
            "margin": null,
            "max_height": null,
            "max_width": null,
            "min_height": null,
            "min_width": null,
            "object_fit": null,
            "object_position": null,
            "order": null,
            "overflow": null,
            "overflow_x": null,
            "overflow_y": null,
            "padding": null,
            "right": null,
            "top": null,
            "visibility": null,
            "width": null
          }
        },
        "0f400182bbce4e1b83de4fe5154187be": {
          "model_module": "@jupyter-widgets/controls",
          "model_name": "DescriptionStyleModel",
          "model_module_version": "1.5.0",
          "state": {
            "_model_module": "@jupyter-widgets/controls",
            "_model_module_version": "1.5.0",
            "_model_name": "DescriptionStyleModel",
            "_view_count": null,
            "_view_module": "@jupyter-widgets/base",
            "_view_module_version": "1.2.0",
            "_view_name": "StyleView",
            "description_width": ""
          }
        },
        "486e3fac434946b1854fdc7f61afbfd9": {
          "model_module": "@jupyter-widgets/controls",
          "model_name": "HBoxModel",
          "model_module_version": "1.5.0",
          "state": {
            "_dom_classes": [],
            "_model_module": "@jupyter-widgets/controls",
            "_model_module_version": "1.5.0",
            "_model_name": "HBoxModel",
            "_view_count": null,
            "_view_module": "@jupyter-widgets/controls",
            "_view_module_version": "1.5.0",
            "_view_name": "HBoxView",
            "box_style": "",
            "children": [
              "IPY_MODEL_02dc6f9397f94767a207263f8559e8f5",
              "IPY_MODEL_26d975e8e19e46bc8317486137cefc52",
              "IPY_MODEL_c2832a47321f4f43816871ec8ce0331a"
            ],
            "layout": "IPY_MODEL_b9cf4b35caaf4afa84ed01eded1b72c5"
          }
        },
        "02dc6f9397f94767a207263f8559e8f5": {
          "model_module": "@jupyter-widgets/controls",
          "model_name": "HTMLModel",
          "model_module_version": "1.5.0",
          "state": {
            "_dom_classes": [],
            "_model_module": "@jupyter-widgets/controls",
            "_model_module_version": "1.5.0",
            "_model_name": "HTMLModel",
            "_view_count": null,
            "_view_module": "@jupyter-widgets/controls",
            "_view_module_version": "1.5.0",
            "_view_name": "HTMLView",
            "description": "",
            "description_tooltip": null,
            "layout": "IPY_MODEL_334768460f0e4f5da26df4eac6354235",
            "placeholder": "​",
            "style": "IPY_MODEL_0e9ad48964f8459e85d0606561427590",
            "value": "vocab.json: 100%"
          }
        },
        "26d975e8e19e46bc8317486137cefc52": {
          "model_module": "@jupyter-widgets/controls",
          "model_name": "FloatProgressModel",
          "model_module_version": "1.5.0",
          "state": {
            "_dom_classes": [],
            "_model_module": "@jupyter-widgets/controls",
            "_model_module_version": "1.5.0",
            "_model_name": "FloatProgressModel",
            "_view_count": null,
            "_view_module": "@jupyter-widgets/controls",
            "_view_module_version": "1.5.0",
            "_view_name": "ProgressView",
            "bar_style": "success",
            "description": "",
            "description_tooltip": null,
            "layout": "IPY_MODEL_7cdd38261136484b8f1652abc2d406c2",
            "max": 1042301,
            "min": 0,
            "orientation": "horizontal",
            "style": "IPY_MODEL_114247bdbcf64bce8d5f507aefa98420",
            "value": 1042301
          }
        },
        "c2832a47321f4f43816871ec8ce0331a": {
          "model_module": "@jupyter-widgets/controls",
          "model_name": "HTMLModel",
          "model_module_version": "1.5.0",
          "state": {
            "_dom_classes": [],
            "_model_module": "@jupyter-widgets/controls",
            "_model_module_version": "1.5.0",
            "_model_name": "HTMLModel",
            "_view_count": null,
            "_view_module": "@jupyter-widgets/controls",
            "_view_module_version": "1.5.0",
            "_view_name": "HTMLView",
            "description": "",
            "description_tooltip": null,
            "layout": "IPY_MODEL_33882e8230f04ea39cdb397af704d518",
            "placeholder": "​",
            "style": "IPY_MODEL_ad0a6022153346b0bc18f875f2b42729",
            "value": " 1.04M/1.04M [00:00&lt;00:00, 2.85MB/s]"
          }
        },
        "b9cf4b35caaf4afa84ed01eded1b72c5": {
          "model_module": "@jupyter-widgets/base",
          "model_name": "LayoutModel",
          "model_module_version": "1.2.0",
          "state": {
            "_model_module": "@jupyter-widgets/base",
            "_model_module_version": "1.2.0",
            "_model_name": "LayoutModel",
            "_view_count": null,
            "_view_module": "@jupyter-widgets/base",
            "_view_module_version": "1.2.0",
            "_view_name": "LayoutView",
            "align_content": null,
            "align_items": null,
            "align_self": null,
            "border": null,
            "bottom": null,
            "display": null,
            "flex": null,
            "flex_flow": null,
            "grid_area": null,
            "grid_auto_columns": null,
            "grid_auto_flow": null,
            "grid_auto_rows": null,
            "grid_column": null,
            "grid_gap": null,
            "grid_row": null,
            "grid_template_areas": null,
            "grid_template_columns": null,
            "grid_template_rows": null,
            "height": null,
            "justify_content": null,
            "justify_items": null,
            "left": null,
            "margin": null,
            "max_height": null,
            "max_width": null,
            "min_height": null,
            "min_width": null,
            "object_fit": null,
            "object_position": null,
            "order": null,
            "overflow": null,
            "overflow_x": null,
            "overflow_y": null,
            "padding": null,
            "right": null,
            "top": null,
            "visibility": null,
            "width": null
          }
        },
        "334768460f0e4f5da26df4eac6354235": {
          "model_module": "@jupyter-widgets/base",
          "model_name": "LayoutModel",
          "model_module_version": "1.2.0",
          "state": {
            "_model_module": "@jupyter-widgets/base",
            "_model_module_version": "1.2.0",
            "_model_name": "LayoutModel",
            "_view_count": null,
            "_view_module": "@jupyter-widgets/base",
            "_view_module_version": "1.2.0",
            "_view_name": "LayoutView",
            "align_content": null,
            "align_items": null,
            "align_self": null,
            "border": null,
            "bottom": null,
            "display": null,
            "flex": null,
            "flex_flow": null,
            "grid_area": null,
            "grid_auto_columns": null,
            "grid_auto_flow": null,
            "grid_auto_rows": null,
            "grid_column": null,
            "grid_gap": null,
            "grid_row": null,
            "grid_template_areas": null,
            "grid_template_columns": null,
            "grid_template_rows": null,
            "height": null,
            "justify_content": null,
            "justify_items": null,
            "left": null,
            "margin": null,
            "max_height": null,
            "max_width": null,
            "min_height": null,
            "min_width": null,
            "object_fit": null,
            "object_position": null,
            "order": null,
            "overflow": null,
            "overflow_x": null,
            "overflow_y": null,
            "padding": null,
            "right": null,
            "top": null,
            "visibility": null,
            "width": null
          }
        },
        "0e9ad48964f8459e85d0606561427590": {
          "model_module": "@jupyter-widgets/controls",
          "model_name": "DescriptionStyleModel",
          "model_module_version": "1.5.0",
          "state": {
            "_model_module": "@jupyter-widgets/controls",
            "_model_module_version": "1.5.0",
            "_model_name": "DescriptionStyleModel",
            "_view_count": null,
            "_view_module": "@jupyter-widgets/base",
            "_view_module_version": "1.2.0",
            "_view_name": "StyleView",
            "description_width": ""
          }
        },
        "7cdd38261136484b8f1652abc2d406c2": {
          "model_module": "@jupyter-widgets/base",
          "model_name": "LayoutModel",
          "model_module_version": "1.2.0",
          "state": {
            "_model_module": "@jupyter-widgets/base",
            "_model_module_version": "1.2.0",
            "_model_name": "LayoutModel",
            "_view_count": null,
            "_view_module": "@jupyter-widgets/base",
            "_view_module_version": "1.2.0",
            "_view_name": "LayoutView",
            "align_content": null,
            "align_items": null,
            "align_self": null,
            "border": null,
            "bottom": null,
            "display": null,
            "flex": null,
            "flex_flow": null,
            "grid_area": null,
            "grid_auto_columns": null,
            "grid_auto_flow": null,
            "grid_auto_rows": null,
            "grid_column": null,
            "grid_gap": null,
            "grid_row": null,
            "grid_template_areas": null,
            "grid_template_columns": null,
            "grid_template_rows": null,
            "height": null,
            "justify_content": null,
            "justify_items": null,
            "left": null,
            "margin": null,
            "max_height": null,
            "max_width": null,
            "min_height": null,
            "min_width": null,
            "object_fit": null,
            "object_position": null,
            "order": null,
            "overflow": null,
            "overflow_x": null,
            "overflow_y": null,
            "padding": null,
            "right": null,
            "top": null,
            "visibility": null,
            "width": null
          }
        },
        "114247bdbcf64bce8d5f507aefa98420": {
          "model_module": "@jupyter-widgets/controls",
          "model_name": "ProgressStyleModel",
          "model_module_version": "1.5.0",
          "state": {
            "_model_module": "@jupyter-widgets/controls",
            "_model_module_version": "1.5.0",
            "_model_name": "ProgressStyleModel",
            "_view_count": null,
            "_view_module": "@jupyter-widgets/base",
            "_view_module_version": "1.2.0",
            "_view_name": "StyleView",
            "bar_color": null,
            "description_width": ""
          }
        },
        "33882e8230f04ea39cdb397af704d518": {
          "model_module": "@jupyter-widgets/base",
          "model_name": "LayoutModel",
          "model_module_version": "1.2.0",
          "state": {
            "_model_module": "@jupyter-widgets/base",
            "_model_module_version": "1.2.0",
            "_model_name": "LayoutModel",
            "_view_count": null,
            "_view_module": "@jupyter-widgets/base",
            "_view_module_version": "1.2.0",
            "_view_name": "LayoutView",
            "align_content": null,
            "align_items": null,
            "align_self": null,
            "border": null,
            "bottom": null,
            "display": null,
            "flex": null,
            "flex_flow": null,
            "grid_area": null,
            "grid_auto_columns": null,
            "grid_auto_flow": null,
            "grid_auto_rows": null,
            "grid_column": null,
            "grid_gap": null,
            "grid_row": null,
            "grid_template_areas": null,
            "grid_template_columns": null,
            "grid_template_rows": null,
            "height": null,
            "justify_content": null,
            "justify_items": null,
            "left": null,
            "margin": null,
            "max_height": null,
            "max_width": null,
            "min_height": null,
            "min_width": null,
            "object_fit": null,
            "object_position": null,
            "order": null,
            "overflow": null,
            "overflow_x": null,
            "overflow_y": null,
            "padding": null,
            "right": null,
            "top": null,
            "visibility": null,
            "width": null
          }
        },
        "ad0a6022153346b0bc18f875f2b42729": {
          "model_module": "@jupyter-widgets/controls",
          "model_name": "DescriptionStyleModel",
          "model_module_version": "1.5.0",
          "state": {
            "_model_module": "@jupyter-widgets/controls",
            "_model_module_version": "1.5.0",
            "_model_name": "DescriptionStyleModel",
            "_view_count": null,
            "_view_module": "@jupyter-widgets/base",
            "_view_module_version": "1.2.0",
            "_view_name": "StyleView",
            "description_width": ""
          }
        },
        "5cb97aaa98d0490ca9d06075283529c3": {
          "model_module": "@jupyter-widgets/controls",
          "model_name": "HBoxModel",
          "model_module_version": "1.5.0",
          "state": {
            "_dom_classes": [],
            "_model_module": "@jupyter-widgets/controls",
            "_model_module_version": "1.5.0",
            "_model_name": "HBoxModel",
            "_view_count": null,
            "_view_module": "@jupyter-widgets/controls",
            "_view_module_version": "1.5.0",
            "_view_name": "HBoxView",
            "box_style": "",
            "children": [
              "IPY_MODEL_10c096d8b2dd4b4f8c03d80a4f18889f",
              "IPY_MODEL_ec6470710abe4979a9576d608b44c54c",
              "IPY_MODEL_c611ac5217bf4927a63ac2e947b7a2d8"
            ],
            "layout": "IPY_MODEL_454e738e1bca4a6c9a35db55148f38b8"
          }
        },
        "10c096d8b2dd4b4f8c03d80a4f18889f": {
          "model_module": "@jupyter-widgets/controls",
          "model_name": "HTMLModel",
          "model_module_version": "1.5.0",
          "state": {
            "_dom_classes": [],
            "_model_module": "@jupyter-widgets/controls",
            "_model_module_version": "1.5.0",
            "_model_name": "HTMLModel",
            "_view_count": null,
            "_view_module": "@jupyter-widgets/controls",
            "_view_module_version": "1.5.0",
            "_view_name": "HTMLView",
            "description": "",
            "description_tooltip": null,
            "layout": "IPY_MODEL_a9f51c3f783e4d189cfdb4f5e96abf01",
            "placeholder": "​",
            "style": "IPY_MODEL_a2c5e02daacd44efb92ff2437a374456",
            "value": "merges.txt: 100%"
          }
        },
        "ec6470710abe4979a9576d608b44c54c": {
          "model_module": "@jupyter-widgets/controls",
          "model_name": "FloatProgressModel",
          "model_module_version": "1.5.0",
          "state": {
            "_dom_classes": [],
            "_model_module": "@jupyter-widgets/controls",
            "_model_module_version": "1.5.0",
            "_model_name": "FloatProgressModel",
            "_view_count": null,
            "_view_module": "@jupyter-widgets/controls",
            "_view_module_version": "1.5.0",
            "_view_name": "ProgressView",
            "bar_style": "success",
            "description": "",
            "description_tooltip": null,
            "layout": "IPY_MODEL_8cdf153f888649e8b3943580afa2921e",
            "max": 456318,
            "min": 0,
            "orientation": "horizontal",
            "style": "IPY_MODEL_37df48c4df6d47c7865d8ef0e8876d53",
            "value": 456318
          }
        },
        "c611ac5217bf4927a63ac2e947b7a2d8": {
          "model_module": "@jupyter-widgets/controls",
          "model_name": "HTMLModel",
          "model_module_version": "1.5.0",
          "state": {
            "_dom_classes": [],
            "_model_module": "@jupyter-widgets/controls",
            "_model_module_version": "1.5.0",
            "_model_name": "HTMLModel",
            "_view_count": null,
            "_view_module": "@jupyter-widgets/controls",
            "_view_module_version": "1.5.0",
            "_view_name": "HTMLView",
            "description": "",
            "description_tooltip": null,
            "layout": "IPY_MODEL_5f2a96aa05be4e64b2e376ed5ca28e9e",
            "placeholder": "​",
            "style": "IPY_MODEL_aa3ebef97bb04000a221eb07b09f1435",
            "value": " 456k/456k [00:00&lt;00:00, 2.47MB/s]"
          }
        },
        "454e738e1bca4a6c9a35db55148f38b8": {
          "model_module": "@jupyter-widgets/base",
          "model_name": "LayoutModel",
          "model_module_version": "1.2.0",
          "state": {
            "_model_module": "@jupyter-widgets/base",
            "_model_module_version": "1.2.0",
            "_model_name": "LayoutModel",
            "_view_count": null,
            "_view_module": "@jupyter-widgets/base",
            "_view_module_version": "1.2.0",
            "_view_name": "LayoutView",
            "align_content": null,
            "align_items": null,
            "align_self": null,
            "border": null,
            "bottom": null,
            "display": null,
            "flex": null,
            "flex_flow": null,
            "grid_area": null,
            "grid_auto_columns": null,
            "grid_auto_flow": null,
            "grid_auto_rows": null,
            "grid_column": null,
            "grid_gap": null,
            "grid_row": null,
            "grid_template_areas": null,
            "grid_template_columns": null,
            "grid_template_rows": null,
            "height": null,
            "justify_content": null,
            "justify_items": null,
            "left": null,
            "margin": null,
            "max_height": null,
            "max_width": null,
            "min_height": null,
            "min_width": null,
            "object_fit": null,
            "object_position": null,
            "order": null,
            "overflow": null,
            "overflow_x": null,
            "overflow_y": null,
            "padding": null,
            "right": null,
            "top": null,
            "visibility": null,
            "width": null
          }
        },
        "a9f51c3f783e4d189cfdb4f5e96abf01": {
          "model_module": "@jupyter-widgets/base",
          "model_name": "LayoutModel",
          "model_module_version": "1.2.0",
          "state": {
            "_model_module": "@jupyter-widgets/base",
            "_model_module_version": "1.2.0",
            "_model_name": "LayoutModel",
            "_view_count": null,
            "_view_module": "@jupyter-widgets/base",
            "_view_module_version": "1.2.0",
            "_view_name": "LayoutView",
            "align_content": null,
            "align_items": null,
            "align_self": null,
            "border": null,
            "bottom": null,
            "display": null,
            "flex": null,
            "flex_flow": null,
            "grid_area": null,
            "grid_auto_columns": null,
            "grid_auto_flow": null,
            "grid_auto_rows": null,
            "grid_column": null,
            "grid_gap": null,
            "grid_row": null,
            "grid_template_areas": null,
            "grid_template_columns": null,
            "grid_template_rows": null,
            "height": null,
            "justify_content": null,
            "justify_items": null,
            "left": null,
            "margin": null,
            "max_height": null,
            "max_width": null,
            "min_height": null,
            "min_width": null,
            "object_fit": null,
            "object_position": null,
            "order": null,
            "overflow": null,
            "overflow_x": null,
            "overflow_y": null,
            "padding": null,
            "right": null,
            "top": null,
            "visibility": null,
            "width": null
          }
        },
        "a2c5e02daacd44efb92ff2437a374456": {
          "model_module": "@jupyter-widgets/controls",
          "model_name": "DescriptionStyleModel",
          "model_module_version": "1.5.0",
          "state": {
            "_model_module": "@jupyter-widgets/controls",
            "_model_module_version": "1.5.0",
            "_model_name": "DescriptionStyleModel",
            "_view_count": null,
            "_view_module": "@jupyter-widgets/base",
            "_view_module_version": "1.2.0",
            "_view_name": "StyleView",
            "description_width": ""
          }
        },
        "8cdf153f888649e8b3943580afa2921e": {
          "model_module": "@jupyter-widgets/base",
          "model_name": "LayoutModel",
          "model_module_version": "1.2.0",
          "state": {
            "_model_module": "@jupyter-widgets/base",
            "_model_module_version": "1.2.0",
            "_model_name": "LayoutModel",
            "_view_count": null,
            "_view_module": "@jupyter-widgets/base",
            "_view_module_version": "1.2.0",
            "_view_name": "LayoutView",
            "align_content": null,
            "align_items": null,
            "align_self": null,
            "border": null,
            "bottom": null,
            "display": null,
            "flex": null,
            "flex_flow": null,
            "grid_area": null,
            "grid_auto_columns": null,
            "grid_auto_flow": null,
            "grid_auto_rows": null,
            "grid_column": null,
            "grid_gap": null,
            "grid_row": null,
            "grid_template_areas": null,
            "grid_template_columns": null,
            "grid_template_rows": null,
            "height": null,
            "justify_content": null,
            "justify_items": null,
            "left": null,
            "margin": null,
            "max_height": null,
            "max_width": null,
            "min_height": null,
            "min_width": null,
            "object_fit": null,
            "object_position": null,
            "order": null,
            "overflow": null,
            "overflow_x": null,
            "overflow_y": null,
            "padding": null,
            "right": null,
            "top": null,
            "visibility": null,
            "width": null
          }
        },
        "37df48c4df6d47c7865d8ef0e8876d53": {
          "model_module": "@jupyter-widgets/controls",
          "model_name": "ProgressStyleModel",
          "model_module_version": "1.5.0",
          "state": {
            "_model_module": "@jupyter-widgets/controls",
            "_model_module_version": "1.5.0",
            "_model_name": "ProgressStyleModel",
            "_view_count": null,
            "_view_module": "@jupyter-widgets/base",
            "_view_module_version": "1.2.0",
            "_view_name": "StyleView",
            "bar_color": null,
            "description_width": ""
          }
        },
        "5f2a96aa05be4e64b2e376ed5ca28e9e": {
          "model_module": "@jupyter-widgets/base",
          "model_name": "LayoutModel",
          "model_module_version": "1.2.0",
          "state": {
            "_model_module": "@jupyter-widgets/base",
            "_model_module_version": "1.2.0",
            "_model_name": "LayoutModel",
            "_view_count": null,
            "_view_module": "@jupyter-widgets/base",
            "_view_module_version": "1.2.0",
            "_view_name": "LayoutView",
            "align_content": null,
            "align_items": null,
            "align_self": null,
            "border": null,
            "bottom": null,
            "display": null,
            "flex": null,
            "flex_flow": null,
            "grid_area": null,
            "grid_auto_columns": null,
            "grid_auto_flow": null,
            "grid_auto_rows": null,
            "grid_column": null,
            "grid_gap": null,
            "grid_row": null,
            "grid_template_areas": null,
            "grid_template_columns": null,
            "grid_template_rows": null,
            "height": null,
            "justify_content": null,
            "justify_items": null,
            "left": null,
            "margin": null,
            "max_height": null,
            "max_width": null,
            "min_height": null,
            "min_width": null,
            "object_fit": null,
            "object_position": null,
            "order": null,
            "overflow": null,
            "overflow_x": null,
            "overflow_y": null,
            "padding": null,
            "right": null,
            "top": null,
            "visibility": null,
            "width": null
          }
        },
        "aa3ebef97bb04000a221eb07b09f1435": {
          "model_module": "@jupyter-widgets/controls",
          "model_name": "DescriptionStyleModel",
          "model_module_version": "1.5.0",
          "state": {
            "_model_module": "@jupyter-widgets/controls",
            "_model_module_version": "1.5.0",
            "_model_name": "DescriptionStyleModel",
            "_view_count": null,
            "_view_module": "@jupyter-widgets/base",
            "_view_module_version": "1.2.0",
            "_view_name": "StyleView",
            "description_width": ""
          }
        },
        "3a553eacaa7f4cd5be3e38d04e49be91": {
          "model_module": "@jupyter-widgets/controls",
          "model_name": "HBoxModel",
          "model_module_version": "1.5.0",
          "state": {
            "_dom_classes": [],
            "_model_module": "@jupyter-widgets/controls",
            "_model_module_version": "1.5.0",
            "_model_name": "HBoxModel",
            "_view_count": null,
            "_view_module": "@jupyter-widgets/controls",
            "_view_module_version": "1.5.0",
            "_view_name": "HBoxView",
            "box_style": "",
            "children": [
              "IPY_MODEL_7f3d99fc105f4feda6a1dc13e7332bb6",
              "IPY_MODEL_8148ca3063124b1485a0a509d009232f",
              "IPY_MODEL_db792253377b422f85aeb1b99bed35f4"
            ],
            "layout": "IPY_MODEL_7065f9bdf64d4116b3827e6446ba6b6d"
          }
        },
        "7f3d99fc105f4feda6a1dc13e7332bb6": {
          "model_module": "@jupyter-widgets/controls",
          "model_name": "HTMLModel",
          "model_module_version": "1.5.0",
          "state": {
            "_dom_classes": [],
            "_model_module": "@jupyter-widgets/controls",
            "_model_module_version": "1.5.0",
            "_model_name": "HTMLModel",
            "_view_count": null,
            "_view_module": "@jupyter-widgets/controls",
            "_view_module_version": "1.5.0",
            "_view_name": "HTMLView",
            "description": "",
            "description_tooltip": null,
            "layout": "IPY_MODEL_5a378c3a5cce4473897362b042fa2e31",
            "placeholder": "​",
            "style": "IPY_MODEL_83c689c5c22f4a63a53164e06afd0f92",
            "value": "tokenizer.json: 100%"
          }
        },
        "8148ca3063124b1485a0a509d009232f": {
          "model_module": "@jupyter-widgets/controls",
          "model_name": "FloatProgressModel",
          "model_module_version": "1.5.0",
          "state": {
            "_dom_classes": [],
            "_model_module": "@jupyter-widgets/controls",
            "_model_module_version": "1.5.0",
            "_model_name": "FloatProgressModel",
            "_view_count": null,
            "_view_module": "@jupyter-widgets/controls",
            "_view_module_version": "1.5.0",
            "_view_name": "ProgressView",
            "bar_style": "success",
            "description": "",
            "description_tooltip": null,
            "layout": "IPY_MODEL_ed99e2b4884149aebd769062a125dbdb",
            "max": 1355256,
            "min": 0,
            "orientation": "horizontal",
            "style": "IPY_MODEL_ff888a20fcd1403d9022fbaec06bf1af",
            "value": 1355256
          }
        },
        "db792253377b422f85aeb1b99bed35f4": {
          "model_module": "@jupyter-widgets/controls",
          "model_name": "HTMLModel",
          "model_module_version": "1.5.0",
          "state": {
            "_dom_classes": [],
            "_model_module": "@jupyter-widgets/controls",
            "_model_module_version": "1.5.0",
            "_model_name": "HTMLModel",
            "_view_count": null,
            "_view_module": "@jupyter-widgets/controls",
            "_view_module_version": "1.5.0",
            "_view_name": "HTMLView",
            "description": "",
            "description_tooltip": null,
            "layout": "IPY_MODEL_f805ddcaf75d499fa4f45f82e98fce90",
            "placeholder": "​",
            "style": "IPY_MODEL_c312ce1dca1347ecba1fb768d31ca5be",
            "value": " 1.36M/1.36M [00:00&lt;00:00, 6.89MB/s]"
          }
        },
        "7065f9bdf64d4116b3827e6446ba6b6d": {
          "model_module": "@jupyter-widgets/base",
          "model_name": "LayoutModel",
          "model_module_version": "1.2.0",
          "state": {
            "_model_module": "@jupyter-widgets/base",
            "_model_module_version": "1.2.0",
            "_model_name": "LayoutModel",
            "_view_count": null,
            "_view_module": "@jupyter-widgets/base",
            "_view_module_version": "1.2.0",
            "_view_name": "LayoutView",
            "align_content": null,
            "align_items": null,
            "align_self": null,
            "border": null,
            "bottom": null,
            "display": null,
            "flex": null,
            "flex_flow": null,
            "grid_area": null,
            "grid_auto_columns": null,
            "grid_auto_flow": null,
            "grid_auto_rows": null,
            "grid_column": null,
            "grid_gap": null,
            "grid_row": null,
            "grid_template_areas": null,
            "grid_template_columns": null,
            "grid_template_rows": null,
            "height": null,
            "justify_content": null,
            "justify_items": null,
            "left": null,
            "margin": null,
            "max_height": null,
            "max_width": null,
            "min_height": null,
            "min_width": null,
            "object_fit": null,
            "object_position": null,
            "order": null,
            "overflow": null,
            "overflow_x": null,
            "overflow_y": null,
            "padding": null,
            "right": null,
            "top": null,
            "visibility": null,
            "width": null
          }
        },
        "5a378c3a5cce4473897362b042fa2e31": {
          "model_module": "@jupyter-widgets/base",
          "model_name": "LayoutModel",
          "model_module_version": "1.2.0",
          "state": {
            "_model_module": "@jupyter-widgets/base",
            "_model_module_version": "1.2.0",
            "_model_name": "LayoutModel",
            "_view_count": null,
            "_view_module": "@jupyter-widgets/base",
            "_view_module_version": "1.2.0",
            "_view_name": "LayoutView",
            "align_content": null,
            "align_items": null,
            "align_self": null,
            "border": null,
            "bottom": null,
            "display": null,
            "flex": null,
            "flex_flow": null,
            "grid_area": null,
            "grid_auto_columns": null,
            "grid_auto_flow": null,
            "grid_auto_rows": null,
            "grid_column": null,
            "grid_gap": null,
            "grid_row": null,
            "grid_template_areas": null,
            "grid_template_columns": null,
            "grid_template_rows": null,
            "height": null,
            "justify_content": null,
            "justify_items": null,
            "left": null,
            "margin": null,
            "max_height": null,
            "max_width": null,
            "min_height": null,
            "min_width": null,
            "object_fit": null,
            "object_position": null,
            "order": null,
            "overflow": null,
            "overflow_x": null,
            "overflow_y": null,
            "padding": null,
            "right": null,
            "top": null,
            "visibility": null,
            "width": null
          }
        },
        "83c689c5c22f4a63a53164e06afd0f92": {
          "model_module": "@jupyter-widgets/controls",
          "model_name": "DescriptionStyleModel",
          "model_module_version": "1.5.0",
          "state": {
            "_model_module": "@jupyter-widgets/controls",
            "_model_module_version": "1.5.0",
            "_model_name": "DescriptionStyleModel",
            "_view_count": null,
            "_view_module": "@jupyter-widgets/base",
            "_view_module_version": "1.2.0",
            "_view_name": "StyleView",
            "description_width": ""
          }
        },
        "ed99e2b4884149aebd769062a125dbdb": {
          "model_module": "@jupyter-widgets/base",
          "model_name": "LayoutModel",
          "model_module_version": "1.2.0",
          "state": {
            "_model_module": "@jupyter-widgets/base",
            "_model_module_version": "1.2.0",
            "_model_name": "LayoutModel",
            "_view_count": null,
            "_view_module": "@jupyter-widgets/base",
            "_view_module_version": "1.2.0",
            "_view_name": "LayoutView",
            "align_content": null,
            "align_items": null,
            "align_self": null,
            "border": null,
            "bottom": null,
            "display": null,
            "flex": null,
            "flex_flow": null,
            "grid_area": null,
            "grid_auto_columns": null,
            "grid_auto_flow": null,
            "grid_auto_rows": null,
            "grid_column": null,
            "grid_gap": null,
            "grid_row": null,
            "grid_template_areas": null,
            "grid_template_columns": null,
            "grid_template_rows": null,
            "height": null,
            "justify_content": null,
            "justify_items": null,
            "left": null,
            "margin": null,
            "max_height": null,
            "max_width": null,
            "min_height": null,
            "min_width": null,
            "object_fit": null,
            "object_position": null,
            "order": null,
            "overflow": null,
            "overflow_x": null,
            "overflow_y": null,
            "padding": null,
            "right": null,
            "top": null,
            "visibility": null,
            "width": null
          }
        },
        "ff888a20fcd1403d9022fbaec06bf1af": {
          "model_module": "@jupyter-widgets/controls",
          "model_name": "ProgressStyleModel",
          "model_module_version": "1.5.0",
          "state": {
            "_model_module": "@jupyter-widgets/controls",
            "_model_module_version": "1.5.0",
            "_model_name": "ProgressStyleModel",
            "_view_count": null,
            "_view_module": "@jupyter-widgets/base",
            "_view_module_version": "1.2.0",
            "_view_name": "StyleView",
            "bar_color": null,
            "description_width": ""
          }
        },
        "f805ddcaf75d499fa4f45f82e98fce90": {
          "model_module": "@jupyter-widgets/base",
          "model_name": "LayoutModel",
          "model_module_version": "1.2.0",
          "state": {
            "_model_module": "@jupyter-widgets/base",
            "_model_module_version": "1.2.0",
            "_model_name": "LayoutModel",
            "_view_count": null,
            "_view_module": "@jupyter-widgets/base",
            "_view_module_version": "1.2.0",
            "_view_name": "LayoutView",
            "align_content": null,
            "align_items": null,
            "align_self": null,
            "border": null,
            "bottom": null,
            "display": null,
            "flex": null,
            "flex_flow": null,
            "grid_area": null,
            "grid_auto_columns": null,
            "grid_auto_flow": null,
            "grid_auto_rows": null,
            "grid_column": null,
            "grid_gap": null,
            "grid_row": null,
            "grid_template_areas": null,
            "grid_template_columns": null,
            "grid_template_rows": null,
            "height": null,
            "justify_content": null,
            "justify_items": null,
            "left": null,
            "margin": null,
            "max_height": null,
            "max_width": null,
            "min_height": null,
            "min_width": null,
            "object_fit": null,
            "object_position": null,
            "order": null,
            "overflow": null,
            "overflow_x": null,
            "overflow_y": null,
            "padding": null,
            "right": null,
            "top": null,
            "visibility": null,
            "width": null
          }
        },
        "c312ce1dca1347ecba1fb768d31ca5be": {
          "model_module": "@jupyter-widgets/controls",
          "model_name": "DescriptionStyleModel",
          "model_module_version": "1.5.0",
          "state": {
            "_model_module": "@jupyter-widgets/controls",
            "_model_module_version": "1.5.0",
            "_model_name": "DescriptionStyleModel",
            "_view_count": null,
            "_view_module": "@jupyter-widgets/base",
            "_view_module_version": "1.2.0",
            "_view_name": "StyleView",
            "description_width": ""
          }
        },
        "d81aedf34cf74577a6a885c9423c7a5c": {
          "model_module": "@jupyter-widgets/controls",
          "model_name": "HBoxModel",
          "model_module_version": "1.5.0",
          "state": {
            "_dom_classes": [],
            "_model_module": "@jupyter-widgets/controls",
            "_model_module_version": "1.5.0",
            "_model_name": "HBoxModel",
            "_view_count": null,
            "_view_module": "@jupyter-widgets/controls",
            "_view_module_version": "1.5.0",
            "_view_name": "HBoxView",
            "box_style": "",
            "children": [
              "IPY_MODEL_afa8c8c04c5c494a84151520d11083e9",
              "IPY_MODEL_4dc33f031ecc4ef0adf0179ce46e7f96",
              "IPY_MODEL_410299ea38b540afb1b8a22e060e791b"
            ],
            "layout": "IPY_MODEL_f10eeb1609864d3892daa731ee391d42"
          }
        },
        "afa8c8c04c5c494a84151520d11083e9": {
          "model_module": "@jupyter-widgets/controls",
          "model_name": "HTMLModel",
          "model_module_version": "1.5.0",
          "state": {
            "_dom_classes": [],
            "_model_module": "@jupyter-widgets/controls",
            "_model_module_version": "1.5.0",
            "_model_name": "HTMLModel",
            "_view_count": null,
            "_view_module": "@jupyter-widgets/controls",
            "_view_module_version": "1.5.0",
            "_view_name": "HTMLView",
            "description": "",
            "description_tooltip": null,
            "layout": "IPY_MODEL_85bc8b71f95e4990a706a3b67a0f9c25",
            "placeholder": "​",
            "style": "IPY_MODEL_d76295694cdd4a0ea751161c50c7d1c1",
            "value": "model.safetensors: 100%"
          }
        },
        "4dc33f031ecc4ef0adf0179ce46e7f96": {
          "model_module": "@jupyter-widgets/controls",
          "model_name": "FloatProgressModel",
          "model_module_version": "1.5.0",
          "state": {
            "_dom_classes": [],
            "_model_module": "@jupyter-widgets/controls",
            "_model_module_version": "1.5.0",
            "_model_name": "FloatProgressModel",
            "_view_count": null,
            "_view_module": "@jupyter-widgets/controls",
            "_view_module_version": "1.5.0",
            "_view_name": "ProgressView",
            "bar_style": "success",
            "description": "",
            "description_tooltip": null,
            "layout": "IPY_MODEL_35a1207f21404de18e7048403db681cb",
            "max": 548105171,
            "min": 0,
            "orientation": "horizontal",
            "style": "IPY_MODEL_012f919c0bd94d6c925e37ac2e3a72f3",
            "value": 548105171
          }
        },
        "410299ea38b540afb1b8a22e060e791b": {
          "model_module": "@jupyter-widgets/controls",
          "model_name": "HTMLModel",
          "model_module_version": "1.5.0",
          "state": {
            "_dom_classes": [],
            "_model_module": "@jupyter-widgets/controls",
            "_model_module_version": "1.5.0",
            "_model_name": "HTMLModel",
            "_view_count": null,
            "_view_module": "@jupyter-widgets/controls",
            "_view_module_version": "1.5.0",
            "_view_name": "HTMLView",
            "description": "",
            "description_tooltip": null,
            "layout": "IPY_MODEL_4c640e7dd2ff4a6db4b706b7ec4c382b",
            "placeholder": "​",
            "style": "IPY_MODEL_8870691ed43943a79dee4d89afe0d620",
            "value": " 548M/548M [00:16&lt;00:00, 54.4MB/s]"
          }
        },
        "f10eeb1609864d3892daa731ee391d42": {
          "model_module": "@jupyter-widgets/base",
          "model_name": "LayoutModel",
          "model_module_version": "1.2.0",
          "state": {
            "_model_module": "@jupyter-widgets/base",
            "_model_module_version": "1.2.0",
            "_model_name": "LayoutModel",
            "_view_count": null,
            "_view_module": "@jupyter-widgets/base",
            "_view_module_version": "1.2.0",
            "_view_name": "LayoutView",
            "align_content": null,
            "align_items": null,
            "align_self": null,
            "border": null,
            "bottom": null,
            "display": null,
            "flex": null,
            "flex_flow": null,
            "grid_area": null,
            "grid_auto_columns": null,
            "grid_auto_flow": null,
            "grid_auto_rows": null,
            "grid_column": null,
            "grid_gap": null,
            "grid_row": null,
            "grid_template_areas": null,
            "grid_template_columns": null,
            "grid_template_rows": null,
            "height": null,
            "justify_content": null,
            "justify_items": null,
            "left": null,
            "margin": null,
            "max_height": null,
            "max_width": null,
            "min_height": null,
            "min_width": null,
            "object_fit": null,
            "object_position": null,
            "order": null,
            "overflow": null,
            "overflow_x": null,
            "overflow_y": null,
            "padding": null,
            "right": null,
            "top": null,
            "visibility": null,
            "width": null
          }
        },
        "85bc8b71f95e4990a706a3b67a0f9c25": {
          "model_module": "@jupyter-widgets/base",
          "model_name": "LayoutModel",
          "model_module_version": "1.2.0",
          "state": {
            "_model_module": "@jupyter-widgets/base",
            "_model_module_version": "1.2.0",
            "_model_name": "LayoutModel",
            "_view_count": null,
            "_view_module": "@jupyter-widgets/base",
            "_view_module_version": "1.2.0",
            "_view_name": "LayoutView",
            "align_content": null,
            "align_items": null,
            "align_self": null,
            "border": null,
            "bottom": null,
            "display": null,
            "flex": null,
            "flex_flow": null,
            "grid_area": null,
            "grid_auto_columns": null,
            "grid_auto_flow": null,
            "grid_auto_rows": null,
            "grid_column": null,
            "grid_gap": null,
            "grid_row": null,
            "grid_template_areas": null,
            "grid_template_columns": null,
            "grid_template_rows": null,
            "height": null,
            "justify_content": null,
            "justify_items": null,
            "left": null,
            "margin": null,
            "max_height": null,
            "max_width": null,
            "min_height": null,
            "min_width": null,
            "object_fit": null,
            "object_position": null,
            "order": null,
            "overflow": null,
            "overflow_x": null,
            "overflow_y": null,
            "padding": null,
            "right": null,
            "top": null,
            "visibility": null,
            "width": null
          }
        },
        "d76295694cdd4a0ea751161c50c7d1c1": {
          "model_module": "@jupyter-widgets/controls",
          "model_name": "DescriptionStyleModel",
          "model_module_version": "1.5.0",
          "state": {
            "_model_module": "@jupyter-widgets/controls",
            "_model_module_version": "1.5.0",
            "_model_name": "DescriptionStyleModel",
            "_view_count": null,
            "_view_module": "@jupyter-widgets/base",
            "_view_module_version": "1.2.0",
            "_view_name": "StyleView",
            "description_width": ""
          }
        },
        "35a1207f21404de18e7048403db681cb": {
          "model_module": "@jupyter-widgets/base",
          "model_name": "LayoutModel",
          "model_module_version": "1.2.0",
          "state": {
            "_model_module": "@jupyter-widgets/base",
            "_model_module_version": "1.2.0",
            "_model_name": "LayoutModel",
            "_view_count": null,
            "_view_module": "@jupyter-widgets/base",
            "_view_module_version": "1.2.0",
            "_view_name": "LayoutView",
            "align_content": null,
            "align_items": null,
            "align_self": null,
            "border": null,
            "bottom": null,
            "display": null,
            "flex": null,
            "flex_flow": null,
            "grid_area": null,
            "grid_auto_columns": null,
            "grid_auto_flow": null,
            "grid_auto_rows": null,
            "grid_column": null,
            "grid_gap": null,
            "grid_row": null,
            "grid_template_areas": null,
            "grid_template_columns": null,
            "grid_template_rows": null,
            "height": null,
            "justify_content": null,
            "justify_items": null,
            "left": null,
            "margin": null,
            "max_height": null,
            "max_width": null,
            "min_height": null,
            "min_width": null,
            "object_fit": null,
            "object_position": null,
            "order": null,
            "overflow": null,
            "overflow_x": null,
            "overflow_y": null,
            "padding": null,
            "right": null,
            "top": null,
            "visibility": null,
            "width": null
          }
        },
        "012f919c0bd94d6c925e37ac2e3a72f3": {
          "model_module": "@jupyter-widgets/controls",
          "model_name": "ProgressStyleModel",
          "model_module_version": "1.5.0",
          "state": {
            "_model_module": "@jupyter-widgets/controls",
            "_model_module_version": "1.5.0",
            "_model_name": "ProgressStyleModel",
            "_view_count": null,
            "_view_module": "@jupyter-widgets/base",
            "_view_module_version": "1.2.0",
            "_view_name": "StyleView",
            "bar_color": null,
            "description_width": ""
          }
        },
        "4c640e7dd2ff4a6db4b706b7ec4c382b": {
          "model_module": "@jupyter-widgets/base",
          "model_name": "LayoutModel",
          "model_module_version": "1.2.0",
          "state": {
            "_model_module": "@jupyter-widgets/base",
            "_model_module_version": "1.2.0",
            "_model_name": "LayoutModel",
            "_view_count": null,
            "_view_module": "@jupyter-widgets/base",
            "_view_module_version": "1.2.0",
            "_view_name": "LayoutView",
            "align_content": null,
            "align_items": null,
            "align_self": null,
            "border": null,
            "bottom": null,
            "display": null,
            "flex": null,
            "flex_flow": null,
            "grid_area": null,
            "grid_auto_columns": null,
            "grid_auto_flow": null,
            "grid_auto_rows": null,
            "grid_column": null,
            "grid_gap": null,
            "grid_row": null,
            "grid_template_areas": null,
            "grid_template_columns": null,
            "grid_template_rows": null,
            "height": null,
            "justify_content": null,
            "justify_items": null,
            "left": null,
            "margin": null,
            "max_height": null,
            "max_width": null,
            "min_height": null,
            "min_width": null,
            "object_fit": null,
            "object_position": null,
            "order": null,
            "overflow": null,
            "overflow_x": null,
            "overflow_y": null,
            "padding": null,
            "right": null,
            "top": null,
            "visibility": null,
            "width": null
          }
        },
        "8870691ed43943a79dee4d89afe0d620": {
          "model_module": "@jupyter-widgets/controls",
          "model_name": "DescriptionStyleModel",
          "model_module_version": "1.5.0",
          "state": {
            "_model_module": "@jupyter-widgets/controls",
            "_model_module_version": "1.5.0",
            "_model_name": "DescriptionStyleModel",
            "_view_count": null,
            "_view_module": "@jupyter-widgets/base",
            "_view_module_version": "1.2.0",
            "_view_name": "StyleView",
            "description_width": ""
          }
        },
        "34ae90458bd14526ab52260e2962bf4d": {
          "model_module": "@jupyter-widgets/controls",
          "model_name": "HBoxModel",
          "model_module_version": "1.5.0",
          "state": {
            "_dom_classes": [],
            "_model_module": "@jupyter-widgets/controls",
            "_model_module_version": "1.5.0",
            "_model_name": "HBoxModel",
            "_view_count": null,
            "_view_module": "@jupyter-widgets/controls",
            "_view_module_version": "1.5.0",
            "_view_name": "HBoxView",
            "box_style": "",
            "children": [
              "IPY_MODEL_1b32ecf3a9964835a9348f73aacdc860",
              "IPY_MODEL_f08240839a774da98bf50c1f6118353b",
              "IPY_MODEL_76a9dd4529b64323b5a63472f9672f19"
            ],
            "layout": "IPY_MODEL_dbaa6fd7185a44b593798c27778acda8"
          }
        },
        "1b32ecf3a9964835a9348f73aacdc860": {
          "model_module": "@jupyter-widgets/controls",
          "model_name": "HTMLModel",
          "model_module_version": "1.5.0",
          "state": {
            "_dom_classes": [],
            "_model_module": "@jupyter-widgets/controls",
            "_model_module_version": "1.5.0",
            "_model_name": "HTMLModel",
            "_view_count": null,
            "_view_module": "@jupyter-widgets/controls",
            "_view_module_version": "1.5.0",
            "_view_name": "HTMLView",
            "description": "",
            "description_tooltip": null,
            "layout": "IPY_MODEL_c4b210f3936a4d2b8ac7253691695f1e",
            "placeholder": "​",
            "style": "IPY_MODEL_7d8f33f95ab04fe8835495a9f1570d62",
            "value": "generation_config.json: 100%"
          }
        },
        "f08240839a774da98bf50c1f6118353b": {
          "model_module": "@jupyter-widgets/controls",
          "model_name": "FloatProgressModel",
          "model_module_version": "1.5.0",
          "state": {
            "_dom_classes": [],
            "_model_module": "@jupyter-widgets/controls",
            "_model_module_version": "1.5.0",
            "_model_name": "FloatProgressModel",
            "_view_count": null,
            "_view_module": "@jupyter-widgets/controls",
            "_view_module_version": "1.5.0",
            "_view_name": "ProgressView",
            "bar_style": "success",
            "description": "",
            "description_tooltip": null,
            "layout": "IPY_MODEL_714b14d44dcd49af834b5efe88ed3438",
            "max": 124,
            "min": 0,
            "orientation": "horizontal",
            "style": "IPY_MODEL_dd3e8745751742799f6b5fbd3f002699",
            "value": 124
          }
        },
        "76a9dd4529b64323b5a63472f9672f19": {
          "model_module": "@jupyter-widgets/controls",
          "model_name": "HTMLModel",
          "model_module_version": "1.5.0",
          "state": {
            "_dom_classes": [],
            "_model_module": "@jupyter-widgets/controls",
            "_model_module_version": "1.5.0",
            "_model_name": "HTMLModel",
            "_view_count": null,
            "_view_module": "@jupyter-widgets/controls",
            "_view_module_version": "1.5.0",
            "_view_name": "HTMLView",
            "description": "",
            "description_tooltip": null,
            "layout": "IPY_MODEL_40489580c20a490ab8a455360c7f251f",
            "placeholder": "​",
            "style": "IPY_MODEL_ff29591651084bd48e10069c4e04dfbf",
            "value": " 124/124 [00:00&lt;00:00, 3.14kB/s]"
          }
        },
        "dbaa6fd7185a44b593798c27778acda8": {
          "model_module": "@jupyter-widgets/base",
          "model_name": "LayoutModel",
          "model_module_version": "1.2.0",
          "state": {
            "_model_module": "@jupyter-widgets/base",
            "_model_module_version": "1.2.0",
            "_model_name": "LayoutModel",
            "_view_count": null,
            "_view_module": "@jupyter-widgets/base",
            "_view_module_version": "1.2.0",
            "_view_name": "LayoutView",
            "align_content": null,
            "align_items": null,
            "align_self": null,
            "border": null,
            "bottom": null,
            "display": null,
            "flex": null,
            "flex_flow": null,
            "grid_area": null,
            "grid_auto_columns": null,
            "grid_auto_flow": null,
            "grid_auto_rows": null,
            "grid_column": null,
            "grid_gap": null,
            "grid_row": null,
            "grid_template_areas": null,
            "grid_template_columns": null,
            "grid_template_rows": null,
            "height": null,
            "justify_content": null,
            "justify_items": null,
            "left": null,
            "margin": null,
            "max_height": null,
            "max_width": null,
            "min_height": null,
            "min_width": null,
            "object_fit": null,
            "object_position": null,
            "order": null,
            "overflow": null,
            "overflow_x": null,
            "overflow_y": null,
            "padding": null,
            "right": null,
            "top": null,
            "visibility": null,
            "width": null
          }
        },
        "c4b210f3936a4d2b8ac7253691695f1e": {
          "model_module": "@jupyter-widgets/base",
          "model_name": "LayoutModel",
          "model_module_version": "1.2.0",
          "state": {
            "_model_module": "@jupyter-widgets/base",
            "_model_module_version": "1.2.0",
            "_model_name": "LayoutModel",
            "_view_count": null,
            "_view_module": "@jupyter-widgets/base",
            "_view_module_version": "1.2.0",
            "_view_name": "LayoutView",
            "align_content": null,
            "align_items": null,
            "align_self": null,
            "border": null,
            "bottom": null,
            "display": null,
            "flex": null,
            "flex_flow": null,
            "grid_area": null,
            "grid_auto_columns": null,
            "grid_auto_flow": null,
            "grid_auto_rows": null,
            "grid_column": null,
            "grid_gap": null,
            "grid_row": null,
            "grid_template_areas": null,
            "grid_template_columns": null,
            "grid_template_rows": null,
            "height": null,
            "justify_content": null,
            "justify_items": null,
            "left": null,
            "margin": null,
            "max_height": null,
            "max_width": null,
            "min_height": null,
            "min_width": null,
            "object_fit": null,
            "object_position": null,
            "order": null,
            "overflow": null,
            "overflow_x": null,
            "overflow_y": null,
            "padding": null,
            "right": null,
            "top": null,
            "visibility": null,
            "width": null
          }
        },
        "7d8f33f95ab04fe8835495a9f1570d62": {
          "model_module": "@jupyter-widgets/controls",
          "model_name": "DescriptionStyleModel",
          "model_module_version": "1.5.0",
          "state": {
            "_model_module": "@jupyter-widgets/controls",
            "_model_module_version": "1.5.0",
            "_model_name": "DescriptionStyleModel",
            "_view_count": null,
            "_view_module": "@jupyter-widgets/base",
            "_view_module_version": "1.2.0",
            "_view_name": "StyleView",
            "description_width": ""
          }
        },
        "714b14d44dcd49af834b5efe88ed3438": {
          "model_module": "@jupyter-widgets/base",
          "model_name": "LayoutModel",
          "model_module_version": "1.2.0",
          "state": {
            "_model_module": "@jupyter-widgets/base",
            "_model_module_version": "1.2.0",
            "_model_name": "LayoutModel",
            "_view_count": null,
            "_view_module": "@jupyter-widgets/base",
            "_view_module_version": "1.2.0",
            "_view_name": "LayoutView",
            "align_content": null,
            "align_items": null,
            "align_self": null,
            "border": null,
            "bottom": null,
            "display": null,
            "flex": null,
            "flex_flow": null,
            "grid_area": null,
            "grid_auto_columns": null,
            "grid_auto_flow": null,
            "grid_auto_rows": null,
            "grid_column": null,
            "grid_gap": null,
            "grid_row": null,
            "grid_template_areas": null,
            "grid_template_columns": null,
            "grid_template_rows": null,
            "height": null,
            "justify_content": null,
            "justify_items": null,
            "left": null,
            "margin": null,
            "max_height": null,
            "max_width": null,
            "min_height": null,
            "min_width": null,
            "object_fit": null,
            "object_position": null,
            "order": null,
            "overflow": null,
            "overflow_x": null,
            "overflow_y": null,
            "padding": null,
            "right": null,
            "top": null,
            "visibility": null,
            "width": null
          }
        },
        "dd3e8745751742799f6b5fbd3f002699": {
          "model_module": "@jupyter-widgets/controls",
          "model_name": "ProgressStyleModel",
          "model_module_version": "1.5.0",
          "state": {
            "_model_module": "@jupyter-widgets/controls",
            "_model_module_version": "1.5.0",
            "_model_name": "ProgressStyleModel",
            "_view_count": null,
            "_view_module": "@jupyter-widgets/base",
            "_view_module_version": "1.2.0",
            "_view_name": "StyleView",
            "bar_color": null,
            "description_width": ""
          }
        },
        "40489580c20a490ab8a455360c7f251f": {
          "model_module": "@jupyter-widgets/base",
          "model_name": "LayoutModel",
          "model_module_version": "1.2.0",
          "state": {
            "_model_module": "@jupyter-widgets/base",
            "_model_module_version": "1.2.0",
            "_model_name": "LayoutModel",
            "_view_count": null,
            "_view_module": "@jupyter-widgets/base",
            "_view_module_version": "1.2.0",
            "_view_name": "LayoutView",
            "align_content": null,
            "align_items": null,
            "align_self": null,
            "border": null,
            "bottom": null,
            "display": null,
            "flex": null,
            "flex_flow": null,
            "grid_area": null,
            "grid_auto_columns": null,
            "grid_auto_flow": null,
            "grid_auto_rows": null,
            "grid_column": null,
            "grid_gap": null,
            "grid_row": null,
            "grid_template_areas": null,
            "grid_template_columns": null,
            "grid_template_rows": null,
            "height": null,
            "justify_content": null,
            "justify_items": null,
            "left": null,
            "margin": null,
            "max_height": null,
            "max_width": null,
            "min_height": null,
            "min_width": null,
            "object_fit": null,
            "object_position": null,
            "order": null,
            "overflow": null,
            "overflow_x": null,
            "overflow_y": null,
            "padding": null,
            "right": null,
            "top": null,
            "visibility": null,
            "width": null
          }
        },
        "ff29591651084bd48e10069c4e04dfbf": {
          "model_module": "@jupyter-widgets/controls",
          "model_name": "DescriptionStyleModel",
          "model_module_version": "1.5.0",
          "state": {
            "_model_module": "@jupyter-widgets/controls",
            "_model_module_version": "1.5.0",
            "_model_name": "DescriptionStyleModel",
            "_view_count": null,
            "_view_module": "@jupyter-widgets/base",
            "_view_module_version": "1.2.0",
            "_view_name": "StyleView",
            "description_width": ""
          }
        }
      }
    }
  },
  "cells": [
    {
      "cell_type": "markdown",
      "metadata": {
        "id": "view-in-github",
        "colab_type": "text"
      },
      "source": [
        "<a href=\"https://colab.research.google.com/github/amchang2/LLM-Surprisal-Project/blob/main/Final_Project_Cogs_150.ipynb\" target=\"_parent\"><img src=\"https://colab.research.google.com/assets/colab-badge.svg\" alt=\"Open In Colab\"/></a>"
      ]
    },
    {
      "cell_type": "markdown",
      "metadata": {
        "id": "97ab835a"
      },
      "source": [
        "# Final Project Cogs 150\n",
        "\n",
        "**Amanda Chang**\n",
        "\n",
        "*Spring 2024*\n",
        "\n",
        "\n",
        "\n",
        "---\n",
        "\n"
      ]
    },
    {
      "cell_type": "markdown",
      "source": [
        "Research question: Are LLMs sensitive to negation?\n",
        "\n",
        "To explore an LLM's sensitivity to negation thoroughly, these questions were addressed when creating the stimuli:\n",
        "\n",
        "- Do LLMs display consistently higher **surprisal** when presented with `semantically similar` words or with `logical opposites` in negation tasks?\n",
        "-  Do LLMs display different  **surprisal** values to a target word depending on whether it follows an `affirmative` or `negated` sentence?"
      ],
      "metadata": {
        "id": "4QgxdfUxvKQe"
      }
    },
    {
      "cell_type": "markdown",
      "source": [
        "## Transformers Set Up"
      ],
      "metadata": {
        "id": "JPF2Iz64HSMU"
      }
    },
    {
      "cell_type": "markdown",
      "source": [
        "## Install and load `transformers`"
      ],
      "metadata": {
        "id": "j953UzZxfbY9"
      }
    },
    {
      "cell_type": "code",
      "source": [
        "%pip install transformers"
      ],
      "metadata": {
        "colab": {
          "base_uri": "https://localhost:8080/"
        },
        "id": "qIx70Cnsfc-c",
        "outputId": "419f14b7-39b5-4cf6-a2ef-1176c3c5a988"
      },
      "execution_count": null,
      "outputs": [
        {
          "output_type": "stream",
          "name": "stdout",
          "text": [
            "Requirement already satisfied: transformers in /usr/local/lib/python3.11/dist-packages (4.52.4)\n",
            "Requirement already satisfied: filelock in /usr/local/lib/python3.11/dist-packages (from transformers) (3.18.0)\n",
            "Requirement already satisfied: huggingface-hub<1.0,>=0.30.0 in /usr/local/lib/python3.11/dist-packages (from transformers) (0.32.4)\n",
            "Requirement already satisfied: numpy>=1.17 in /usr/local/lib/python3.11/dist-packages (from transformers) (2.0.2)\n",
            "Requirement already satisfied: packaging>=20.0 in /usr/local/lib/python3.11/dist-packages (from transformers) (24.2)\n",
            "Requirement already satisfied: pyyaml>=5.1 in /usr/local/lib/python3.11/dist-packages (from transformers) (6.0.2)\n",
            "Requirement already satisfied: regex!=2019.12.17 in /usr/local/lib/python3.11/dist-packages (from transformers) (2024.11.6)\n",
            "Requirement already satisfied: requests in /usr/local/lib/python3.11/dist-packages (from transformers) (2.32.3)\n",
            "Requirement already satisfied: tokenizers<0.22,>=0.21 in /usr/local/lib/python3.11/dist-packages (from transformers) (0.21.1)\n",
            "Requirement already satisfied: safetensors>=0.4.3 in /usr/local/lib/python3.11/dist-packages (from transformers) (0.5.3)\n",
            "Requirement already satisfied: tqdm>=4.27 in /usr/local/lib/python3.11/dist-packages (from transformers) (4.67.1)\n",
            "Requirement already satisfied: fsspec>=2023.5.0 in /usr/local/lib/python3.11/dist-packages (from huggingface-hub<1.0,>=0.30.0->transformers) (2025.3.2)\n",
            "Requirement already satisfied: typing-extensions>=3.7.4.3 in /usr/local/lib/python3.11/dist-packages (from huggingface-hub<1.0,>=0.30.0->transformers) (4.14.0)\n",
            "Requirement already satisfied: hf-xet<2.0.0,>=1.1.2 in /usr/local/lib/python3.11/dist-packages (from huggingface-hub<1.0,>=0.30.0->transformers) (1.1.2)\n",
            "Requirement already satisfied: charset-normalizer<4,>=2 in /usr/local/lib/python3.11/dist-packages (from requests->transformers) (3.4.2)\n",
            "Requirement already satisfied: idna<4,>=2.5 in /usr/local/lib/python3.11/dist-packages (from requests->transformers) (3.10)\n",
            "Requirement already satisfied: urllib3<3,>=1.21.1 in /usr/local/lib/python3.11/dist-packages (from requests->transformers) (2.4.0)\n",
            "Requirement already satisfied: certifi>=2017.4.17 in /usr/local/lib/python3.11/dist-packages (from requests->transformers) (2025.4.26)\n"
          ]
        }
      ]
    },
    {
      "cell_type": "code",
      "source": [
        "import pandas as pd\n",
        "import matplotlib.pyplot as plt\n",
        "import seaborn as sns\n",
        "import numpy as np\n",
        "from tqdm import tqdm\n",
        "\n",
        "%matplotlib inline\n",
        "%config InlineBackend.figure_format = 'retina'  # makes figs nicer!"
      ],
      "metadata": {
        "id": "EJyLEki9i82t"
      },
      "execution_count": null,
      "outputs": []
    },
    {
      "cell_type": "code",
      "source": [
        "from transformers import AutoTokenizer\n",
        "\n",
        "tokenizer = AutoTokenizer.from_pretrained(\"gpt2\")"
      ],
      "metadata": {
        "colab": {
          "base_uri": "https://localhost:8080/",
          "height": 301,
          "referenced_widgets": [
            "f78f0fddfdad4b51994e16af93f2fd51",
            "92eaf3d276884b2991cdd0c6816c9b46",
            "b133d91cf5dc4025b2adf36e18498545",
            "2852bc8034e24beeb617fd0ebbc9fdf9",
            "a3f8bae9a70b4e539d271fd223a7b77c",
            "a6bd59cdb0ee4741b10d837118de4549",
            "791b339fd4234f3b96d2bff6348f518c",
            "46be17ddc55c4bb296ca91bbb7484f62",
            "0bf9e6fb272c4657ac2ae29e42fd673e",
            "1b0a5d4c5f354922a558bb1855ac14f4",
            "629f1b4ae8314869bb2eabbaa8ed0e1b",
            "659c2879df444380a38d9bf8cd82545a",
            "231cfce7a6934a1a908181641302a9f7",
            "b29ff88241924f0a8335d9a993b7f553",
            "8a3126de446b4b4786bb78233bdd35d1",
            "0ffa9169f78e44e69f525a12c2909d4f",
            "83cdd2ff05154718b76f9aa8ff7dab62",
            "31b017e5c1e748fabe854cf48f08f131",
            "c63903472aff45028d7deb20f23810e9",
            "6b96e88cba8f4ee9911b5d02103be7aa",
            "e20b2928485e4c85a672a6eabef4568f",
            "0f400182bbce4e1b83de4fe5154187be",
            "486e3fac434946b1854fdc7f61afbfd9",
            "02dc6f9397f94767a207263f8559e8f5",
            "26d975e8e19e46bc8317486137cefc52",
            "c2832a47321f4f43816871ec8ce0331a",
            "b9cf4b35caaf4afa84ed01eded1b72c5",
            "334768460f0e4f5da26df4eac6354235",
            "0e9ad48964f8459e85d0606561427590",
            "7cdd38261136484b8f1652abc2d406c2",
            "114247bdbcf64bce8d5f507aefa98420",
            "33882e8230f04ea39cdb397af704d518",
            "ad0a6022153346b0bc18f875f2b42729",
            "5cb97aaa98d0490ca9d06075283529c3",
            "10c096d8b2dd4b4f8c03d80a4f18889f",
            "ec6470710abe4979a9576d608b44c54c",
            "c611ac5217bf4927a63ac2e947b7a2d8",
            "454e738e1bca4a6c9a35db55148f38b8",
            "a9f51c3f783e4d189cfdb4f5e96abf01",
            "a2c5e02daacd44efb92ff2437a374456",
            "8cdf153f888649e8b3943580afa2921e",
            "37df48c4df6d47c7865d8ef0e8876d53",
            "5f2a96aa05be4e64b2e376ed5ca28e9e",
            "aa3ebef97bb04000a221eb07b09f1435",
            "3a553eacaa7f4cd5be3e38d04e49be91",
            "7f3d99fc105f4feda6a1dc13e7332bb6",
            "8148ca3063124b1485a0a509d009232f",
            "db792253377b422f85aeb1b99bed35f4",
            "7065f9bdf64d4116b3827e6446ba6b6d",
            "5a378c3a5cce4473897362b042fa2e31",
            "83c689c5c22f4a63a53164e06afd0f92",
            "ed99e2b4884149aebd769062a125dbdb",
            "ff888a20fcd1403d9022fbaec06bf1af",
            "f805ddcaf75d499fa4f45f82e98fce90",
            "c312ce1dca1347ecba1fb768d31ca5be"
          ]
        },
        "id": "oG8syt-ugpfJ",
        "outputId": "b3de9cdd-87d0-4e94-c658-493f9b3a8920"
      },
      "execution_count": null,
      "outputs": [
        {
          "output_type": "stream",
          "name": "stderr",
          "text": [
            "/usr/local/lib/python3.11/dist-packages/huggingface_hub/utils/_auth.py:94: UserWarning: \n",
            "The secret `HF_TOKEN` does not exist in your Colab secrets.\n",
            "To authenticate with the Hugging Face Hub, create a token in your settings tab (https://huggingface.co/settings/tokens), set it as secret in your Google Colab and restart your session.\n",
            "You will be able to reuse this secret in all of your notebooks.\n",
            "Please note that authentication is recommended but still optional to access public models or datasets.\n",
            "  warnings.warn(\n"
          ]
        },
        {
          "output_type": "display_data",
          "data": {
            "text/plain": [
              "tokenizer_config.json:   0%|          | 0.00/26.0 [00:00<?, ?B/s]"
            ],
            "application/vnd.jupyter.widget-view+json": {
              "version_major": 2,
              "version_minor": 0,
              "model_id": "f78f0fddfdad4b51994e16af93f2fd51"
            }
          },
          "metadata": {}
        },
        {
          "output_type": "display_data",
          "data": {
            "text/plain": [
              "config.json:   0%|          | 0.00/665 [00:00<?, ?B/s]"
            ],
            "application/vnd.jupyter.widget-view+json": {
              "version_major": 2,
              "version_minor": 0,
              "model_id": "659c2879df444380a38d9bf8cd82545a"
            }
          },
          "metadata": {}
        },
        {
          "output_type": "display_data",
          "data": {
            "text/plain": [
              "vocab.json:   0%|          | 0.00/1.04M [00:00<?, ?B/s]"
            ],
            "application/vnd.jupyter.widget-view+json": {
              "version_major": 2,
              "version_minor": 0,
              "model_id": "486e3fac434946b1854fdc7f61afbfd9"
            }
          },
          "metadata": {}
        },
        {
          "output_type": "display_data",
          "data": {
            "text/plain": [
              "merges.txt:   0%|          | 0.00/456k [00:00<?, ?B/s]"
            ],
            "application/vnd.jupyter.widget-view+json": {
              "version_major": 2,
              "version_minor": 0,
              "model_id": "5cb97aaa98d0490ca9d06075283529c3"
            }
          },
          "metadata": {}
        },
        {
          "output_type": "display_data",
          "data": {
            "text/plain": [
              "tokenizer.json:   0%|          | 0.00/1.36M [00:00<?, ?B/s]"
            ],
            "application/vnd.jupyter.widget-view+json": {
              "version_major": 2,
              "version_minor": 0,
              "model_id": "3a553eacaa7f4cd5be3e38d04e49be91"
            }
          },
          "metadata": {}
        }
      ]
    },
    {
      "cell_type": "markdown",
      "source": [
        "## Load a pre-trained model\n",
        "\n",
        "We can use the `from_pretrained` function to load an existing, pre-trained model (GPT-2)."
      ],
      "metadata": {
        "id": "405AuASgpbn5"
      }
    },
    {
      "cell_type": "code",
      "source": [
        "import torch\n",
        "import transformers"
      ],
      "metadata": {
        "id": "HjS1TU5jpzQi"
      },
      "execution_count": null,
      "outputs": []
    },
    {
      "cell_type": "code",
      "source": [
        "gpt2 = transformers.AutoModelForCausalLM.from_pretrained(\"gpt2\")  # Load the model\n",
        "gpt2.eval()  # Put the model in \"evaluation mode\" (as opposed to training mode)."
      ],
      "metadata": {
        "colab": {
          "base_uri": "https://localhost:8080/",
          "height": 550,
          "referenced_widgets": [
            "d81aedf34cf74577a6a885c9423c7a5c",
            "afa8c8c04c5c494a84151520d11083e9",
            "4dc33f031ecc4ef0adf0179ce46e7f96",
            "410299ea38b540afb1b8a22e060e791b",
            "f10eeb1609864d3892daa731ee391d42",
            "85bc8b71f95e4990a706a3b67a0f9c25",
            "d76295694cdd4a0ea751161c50c7d1c1",
            "35a1207f21404de18e7048403db681cb",
            "012f919c0bd94d6c925e37ac2e3a72f3",
            "4c640e7dd2ff4a6db4b706b7ec4c382b",
            "8870691ed43943a79dee4d89afe0d620",
            "34ae90458bd14526ab52260e2962bf4d",
            "1b32ecf3a9964835a9348f73aacdc860",
            "f08240839a774da98bf50c1f6118353b",
            "76a9dd4529b64323b5a63472f9672f19",
            "dbaa6fd7185a44b593798c27778acda8",
            "c4b210f3936a4d2b8ac7253691695f1e",
            "7d8f33f95ab04fe8835495a9f1570d62",
            "714b14d44dcd49af834b5efe88ed3438",
            "dd3e8745751742799f6b5fbd3f002699",
            "40489580c20a490ab8a455360c7f251f",
            "ff29591651084bd48e10069c4e04dfbf"
          ]
        },
        "id": "d6XJHIZChBQp",
        "outputId": "e13fc6d2-43aa-4314-974f-04fefc5c65d8"
      },
      "execution_count": null,
      "outputs": [
        {
          "output_type": "display_data",
          "data": {
            "text/plain": [
              "model.safetensors:   0%|          | 0.00/548M [00:00<?, ?B/s]"
            ],
            "application/vnd.jupyter.widget-view+json": {
              "version_major": 2,
              "version_minor": 0,
              "model_id": "d81aedf34cf74577a6a885c9423c7a5c"
            }
          },
          "metadata": {}
        },
        {
          "output_type": "display_data",
          "data": {
            "text/plain": [
              "generation_config.json:   0%|          | 0.00/124 [00:00<?, ?B/s]"
            ],
            "application/vnd.jupyter.widget-view+json": {
              "version_major": 2,
              "version_minor": 0,
              "model_id": "34ae90458bd14526ab52260e2962bf4d"
            }
          },
          "metadata": {}
        },
        {
          "output_type": "execute_result",
          "data": {
            "text/plain": [
              "GPT2LMHeadModel(\n",
              "  (transformer): GPT2Model(\n",
              "    (wte): Embedding(50257, 768)\n",
              "    (wpe): Embedding(1024, 768)\n",
              "    (drop): Dropout(p=0.1, inplace=False)\n",
              "    (h): ModuleList(\n",
              "      (0-11): 12 x GPT2Block(\n",
              "        (ln_1): LayerNorm((768,), eps=1e-05, elementwise_affine=True)\n",
              "        (attn): GPT2Attention(\n",
              "          (c_attn): Conv1D(nf=2304, nx=768)\n",
              "          (c_proj): Conv1D(nf=768, nx=768)\n",
              "          (attn_dropout): Dropout(p=0.1, inplace=False)\n",
              "          (resid_dropout): Dropout(p=0.1, inplace=False)\n",
              "        )\n",
              "        (ln_2): LayerNorm((768,), eps=1e-05, elementwise_affine=True)\n",
              "        (mlp): GPT2MLP(\n",
              "          (c_fc): Conv1D(nf=3072, nx=768)\n",
              "          (c_proj): Conv1D(nf=768, nx=3072)\n",
              "          (act): NewGELUActivation()\n",
              "          (dropout): Dropout(p=0.1, inplace=False)\n",
              "        )\n",
              "      )\n",
              "    )\n",
              "    (ln_f): LayerNorm((768,), eps=1e-05, elementwise_affine=True)\n",
              "  )\n",
              "  (lm_head): Linear(in_features=768, out_features=50257, bias=False)\n",
              ")"
            ]
          },
          "metadata": {},
          "execution_count": 6
        }
      ]
    },
    {
      "cell_type": "markdown",
      "source": [
        "## Psycholinguistic stimuli\n",
        "\n",
        "Research question: Are LLMs sensitive to negation?\n",
        "\n",
        "To test this, we'd need to devise *pairs* of stimuli:\n",
        "\n",
        "- We'll run each of these through GPT-2.  \n",
        "\n",
        "**Semantically similar words vs. Logical opposites:**\n",
        "- For each \"minimal pair\" (`The weather today is not cloudy, it is`), we'll want two versions, which end with either a `semantically similar` word (` foggy`) or a `logical opposite` (` sunny`).\n",
        "- Final words are reused with a different sentence frame that inverts the logistically opposite pattern.\n",
        "- If the LLM is sensitive to negation, the surprisal relationships should reflect that `semantically similar` and `same word` completions consistently have higher surprisal than `logical opposite` completions.\n",
        "\n",
        "\n",
        "**Affirmative vs. Negated sentences:**\n",
        "- For each \"minimal pair\", we'll want two versions, which begin with an `affirmative` sentence frame (`'A mouse is a'`) or a `negated` sentence frame (`'A mouse is not a'`).\n",
        "- Sentence structures are reused with a word that inverts the logistically opposite pattern.\n",
        "- There are different types completions for each `affirmative` and `negated` sentence frame, which include: `Affirmative-Correct`, `Negated-Anomalous`, `Affirmative-Related`, `Negated-Related`, `Affirmative-Nonrelated`, `Negated-Nonrelated`, `Affirmative-Same`, and `Negated-Same`. `Affirmative-Correct` words are words that correctly categorize the subject. `Negated-Anomalous` words are the same words used in the `Affirmative-Correct`, which should create higher surprisal since the word is not a logical opposite of the subject. `Related` words are words within the same category of the subject, `Nonrelated` words are words that would have no relation to the subject whatsoever.\n",
        "- If the LLM is sensitive to negation, the surprisal relationships between `affirmative` and `negated` sentence frames should reflect the following within the specified minimal pairs:\n",
        "\n",
        "\n",
        "1.   Negated surprisal should be higher than affirmative surprisal: `Affirmative-Correct` and `Negated-Anomalous`, `Affirmative-Same`, and `Negated-Same`\n",
        "2.   Affirmative surprisal should be higher than negated surprisal:\n",
        "`Affirmative-Related` and `Negated-Related`, `Affirmative-Nonrelated` and `Negated-Nonrelated`(although, these two might have similar high surprisal since the subject and unrelated critical word do not commonly appear together)\n",
        "\n",
        "\n",
        "**Possible counfounds or issues:**\n",
        "- Minimal pairs are good for assessing grammatical rules, but they may fall short when assessing meaning during negation since the stimuli will focus on the negation term `not` rather than a general ability to handle negation.\n",
        "- `not` is the only negation term used throughout the stimuli, while it is consistent, it does not necessarily cover all scopes of negation (e.g., \"never\", \"neither\", \"no\", offline methods using \"true\" or \"false\").\n",
        "- Some completions could generate higher surprisal due to being rare rather than being false, which would be a reflection of the training data and not the LLM.\n",
        "- The use of either \"a\" or \"an\" at the end of affirmative and negated sentence frames could introduce surprisal differences that are unrelated to semantic content since GPT-2 might be sensitive to phonological cues.\n",
        "- World Knowledge Violations: even when negation is syntactically correct, the model may assign high probability to a semantically similar word due to frequent associations between the two words.\n",
        "- Human bias: the completions for each conditions are subjective to the researcher, critical word selections may be inconsistent with how they meet their condition.\n"
      ],
      "metadata": {
        "id": "i4mqzAWpkpEN"
      }
    },
    {
      "cell_type": "markdown",
      "source": [
        "### Defining the stimuli\n",
        "\n",
        "- Each stimulis has a sentence, final completion, and condition label.\n",
        "- The sentences come in *pairs*. This is to make sure we control for everything but the final word.  \n",
        "- The `same word` condition is also used as a control, if the LLM is sensitive to negation, `same word` completions should have similar surprisal to `semantically similar` and `negated-anomalous` completions. This condition will directly measure whether the model suppresses the probability of a semantically affirmed word when it is logically contradicted by negation in the sentence frame. This is important for isolating the use of \"not\" within a sentence frame and determining if differences in surprisal are from an LLM's sensitivity to negation or it's ability to \"pattern match\" and favor repetition."
      ],
      "metadata": {
        "id": "d7VwjK1ym6SH"
      }
    },
    {
      "cell_type": "code",
      "source": [
        "stimuli1 = [\n",
        "    ### sentence, word, condition, item number\n",
        "    ('He is not stupid, he is', ' dumb', 'Semantically Similar'),\n",
        "    ('He is not stupid, he is', ' smart', 'Logical Opposite'),\n",
        "    ('He is not intellegent, he is', ' smart', 'Semantically Similar'),\n",
        "    ('He is not intellegent, he is', ' dumb', 'Logical Opposite'),\n",
        "    ('She is not nice, she is', ' sweet', 'Semantically Similar'),\n",
        "    ('She is not nice, she is', ' mean', 'Logical Opposite'),\n",
        "    ('She is not callous, she is', ' mean', 'Semantically Similar'),\n",
        "    ('She is not callous, he is', ' sweet', 'Logical Opposite'),\n",
        "    ('The weather today is not cloudy, it is', ' foggy', 'Semantically Similar'),\n",
        "    ('The weather today is not cloudy, it is', ' sunny', 'Logical Opposite'),\n",
        "    ('The weather today is not clear, it is', ' sunny', 'Semantically Similar'),\n",
        "    ('The weather today is not clear, it is', ' foggy', 'Logical Opposite'),\n",
        "    ('He is not hardworking, he is', ' determined', 'Semantically Similar'),\n",
        "    ('He is not hardworking, he is', ' lazy', 'Logical Opposite'),\n",
        "    ('He is not idle, he is', ' lazy', 'Semantically Similar'),\n",
        "    ('He is not idle, he is', ' determined', 'Logical Opposite'),\n",
        "    ('She is not shy, she is', ' introverted', 'Semantically Similar'),\n",
        "    ('She is not shy, she is', ' extroverted', 'Logical Opposite'),\n",
        "    ('She is not outgoing, she is', ' extroverted', 'Semantically Similar'),\n",
        "    ('She is not outgoing, she is', ' introverted', 'Logical Opposite'),\n",
        "    ('He is not stupid, he is', ' stupid', 'Same Word'),\n",
        "    ('He is not intellegent, he is', ' intellegent', 'Same Word'),\n",
        "    ('She is not nice, she is', ' nice', 'Same Word'),\n",
        "    ('She is not callous, she is', ' callous', 'Same Word'),\n",
        "    ('The weather today is not cloudy, it is', ' cloudy', 'Same Word'),\n",
        "    ('The weather today is not clear, it is', ' clear', 'Same Word'),\n",
        "    ('He is not hardworking, he is', ' hardworking', 'Same Word'),\n",
        "    ('He is not idle, he is', ' idle', 'Same Word'),\n",
        "    ('She is not shy, she is', ' shy', 'Same Word'),\n",
        "    ('She is not outgoing, she is', ' outgoing', 'Same Word')\n",
        "]"
      ],
      "metadata": {
        "id": "vOaubteDknv3"
      },
      "execution_count": null,
      "outputs": []
    },
    {
      "cell_type": "code",
      "source": [
        "stimuli2 = [\n",
        "    ### sentence, word, condition, item number\n",
        "    ('A mouse is a', ' rodent', 'Affirmative-Correct'),\n",
        "    ('A mouse is not a', ' rodent', 'Negated-Anomalous'),\n",
        "    ('A mouse is a', ' rat', 'Affirmative-Related'),\n",
        "    ('A mouse is not a', ' rat', 'Negated-Related'),\n",
        "    ('A mouse is a', ' cup', 'Affirmative-Nonrelated'),\n",
        "    ('A mouse is not a', ' cup', 'Negated-Nonrelated'),\n",
        "    ('A rose is a', ' flower', 'Affirmative-Correct'),\n",
        "    ('A rose is not a', ' flower', 'Negated-Anomalous'),\n",
        "    ('A rose is a', ' tulip', 'Affirmative-Related'),\n",
        "    ('A rose is not a', ' tulip', 'Negated-Related'),\n",
        "    ('A rose is a', ' spoon', 'Affirmative-Nonrelated'),\n",
        "    ('A rose is not a', ' spoon', 'Negated-Nonrelated'),\n",
        "    ('A dolphin is a', ' mammal', 'Affirmative-Correct'),\n",
        "    ('A dolphin is not a', ' mammal', 'Negated-Anomalous'),\n",
        "    ('A dolphin is a', ' whale', 'Affirmative-Related'),\n",
        "    ('A dolphin is not a', ' whale', 'Negated-Related'),\n",
        "    ('A dolphin is a', ' chair', 'Affirmative-Nonrelated'),\n",
        "    ('A dolphin is not a', ' chair', 'Negated-Nonrelated'),\n",
        "    ('A violin is an', ' instrument', 'Affirmative-Correct'),\n",
        "    ('A violin is not an', ' instrument', 'Negated-Anomalous'),\n",
        "    ('A violin is a', ' viola', 'Affirmative-Related'),\n",
        "    ('A violin is not a', ' viola', 'Negated-Related'),\n",
        "    ('A violin is a', ' human', 'Affirmative-Nonrelated'),\n",
        "    ('A violin is not a', ' human', 'Negated-Nonrelated'),\n",
        "    ('A grape is a', ' fruit', 'Affirmative-Correct'),\n",
        "    ('A grape is not a', ' fruit', 'Negated-Anomalous'),\n",
        "    ('A grape is a', ' blueberry', 'Affirmative-Related'),\n",
        "    ('A grape is not a', ' blueberry', 'Negated-Related'),\n",
        "    ('A grape is a', ' pillow', 'Affirmative-Nonrelated'),\n",
        "    ('A grape is not a', ' pillow', 'Negated-Nonrelated'),\n",
        "    ('A mouse is a', ' mouse', 'Affirmative-Same'),\n",
        "    ('A mouse is not a', ' mouse', 'Negated-Same'),\n",
        "    ('A rose is a', ' rose', 'Affirmative-Same'),\n",
        "    ('A rose is not a', ' rose', 'Negated-Same'),\n",
        "    ('A dolphin is a', ' dolphin', 'Affirmative-Same'),\n",
        "    ('A dolphin is not a', ' dolphin', 'Negated-Same'),\n",
        "    ('A violin is a', ' violin', 'Affirmative-Same'),\n",
        "    ('A violin is not a', ' violin', 'Negated-Same'),\n",
        "    ('A grape is a', ' grape', 'Affirmative-Same'),\n",
        "    ('A grape is not a', ' grape', 'Affirmative-Same'),\n",
        "]"
      ],
      "metadata": {
        "id": "65Ln5YdeqSiF"
      },
      "execution_count": null,
      "outputs": []
    },
    {
      "cell_type": "markdown",
      "source": [
        "## Calculate surprisal\n"
      ],
      "metadata": {
        "id": "1hRohpifnWhN"
      }
    },
    {
      "cell_type": "markdown",
      "source": [
        "### Probability Function\n",
        "\n",
        "This function calculates the propabilities of *any* sentence and *any* `candidate`. The inputs include:\n",
        "\n",
        "- A `model` (LLM).\n",
        "- A `tokenizer`.\n",
        "- A text fragment (`seen`).\n",
        "- The thing you want to estimate the probability of (`unseen`).\n",
        "\n",
        "This will also deal with multi-token inputs."
      ],
      "metadata": {
        "id": "E2S471TbiLzN"
      }
    },
    {
      "cell_type": "code",
      "source": [
        "def next_seq_prob(model, tokenizer, seen, unseen):\n",
        "    \"\"\"Get p(unseen | seen)\n",
        "\n",
        "    Parameters\n",
        "    ----------\n",
        "    model : transformers.PreTrainedModel\n",
        "        Model to use for predicting tokens\n",
        "    tokenizer : transformers.PreTrainedTokenizer\n",
        "        Tokenizer for Model\n",
        "    seen : str\n",
        "        Input sequence\n",
        "    unseen: str\n",
        "        The sequence for which to calculate a probability\n",
        "    \"\"\"\n",
        "    # Get ids for tokens\n",
        "    input_ids = tokenizer.encode(seen, return_tensors=\"pt\")\n",
        "    unseen_ids = tokenizer.encode(unseen)\n",
        "\n",
        "    # Loop through unseen tokens & store log probs\n",
        "    log_probs = []\n",
        "    for unseen_id in unseen_ids:\n",
        "\n",
        "        # Run model on input\n",
        "        with torch.no_grad():\n",
        "            logits = model(input_ids).logits\n",
        "\n",
        "        # Get next token prediction logits\n",
        "        next_token_logits = logits[0, -1]\n",
        "        next_token_probs = torch.softmax(next_token_logits, 0) # Normalize\n",
        "\n",
        "        # Get probability for relevant token in unseen string & store\n",
        "        prob = next_token_probs[unseen_id]\n",
        "        log_probs.append(torch.log(prob))\n",
        "\n",
        "        # Add input tokens incrementally to input\n",
        "        input_ids = torch.cat((input_ids, torch.tensor([[unseen_id]])), 1)\n",
        "\n",
        "    # Add log probs together to get total log probability of sequence\n",
        "    total_log_prob = sum(log_probs)\n",
        "    # Exponentiate to return to probabilities\n",
        "    total_prob = torch.exp(total_log_prob)\n",
        "    return total_prob.item()"
      ],
      "metadata": {
        "id": "tRrEuUBoiLKP"
      },
      "execution_count": null,
      "outputs": []
    },
    {
      "cell_type": "markdown",
      "source": [
        "### Surprisal Function\n",
        "\n",
        "> The **surprisal** of a token is its negative log probability. Higher \"surprisal\" corresponds to lower probability, i.e., the model is more \"surprised\" by a given word."
      ],
      "metadata": {
        "id": "up-gpItGjtvI"
      }
    },
    {
      "cell_type": "code",
      "source": [
        "def surprisal(p):\n",
        "  return -np.log2(p)"
      ],
      "metadata": {
        "id": "WiMHQ3bsjg_D"
      },
      "execution_count": null,
      "outputs": []
    },
    {
      "cell_type": "markdown",
      "source": [
        "### Obtain surprisal values"
      ],
      "metadata": {
        "id": "WNJrd4CVkH8s"
      }
    },
    {
      "cell_type": "code",
      "source": [
        "### Create DataFrame for Stimuli 1\n",
        "df_stimuli1 = pd.DataFrame(stimuli1, columns = ['Sentence', 'Word', 'Condition'])\n",
        "df_stimuli1.head(3)\n",
        "\n",
        "### Obtain Surprisal using the next_seq_prob() function\n",
        "results1 = []\n",
        "for index, row in tqdm(df_stimuli1.iterrows(), total=df_stimuli1.shape[0]):\n",
        "\n",
        "  prob = next_seq_prob(gpt2, tokenizer, row['Sentence'], row['Word'])\n",
        "\n",
        "  results1.append({\n",
        "      'Word': row['Word'],\n",
        "      'Sentence': row['Sentence'],\n",
        "      'Condition': row['Condition'],\n",
        "      'Probability': prob,\n",
        "      'Surprisal': surprisal(prob)\n",
        "  })"
      ],
      "metadata": {
        "colab": {
          "base_uri": "https://localhost:8080/"
        },
        "id": "EUUp8Gzyi7v3",
        "outputId": "790fb0cf-93c1-4a15-fe03-9be135ea32c3"
      },
      "execution_count": null,
      "outputs": [
        {
          "output_type": "stream",
          "name": "stderr",
          "text": [
            "100%|██████████| 30/30 [00:12<00:00,  2.32it/s]\n"
          ]
        }
      ]
    },
    {
      "cell_type": "code",
      "source": [
        "### Create DataFrame for Stimuli 2\n",
        "df_stimuli2 = pd.DataFrame(stimuli2, columns = ['Sentence', 'Word', 'Condition'])\n",
        "\n",
        "### Obtain Surprisal using the next_seq_prob() function\n",
        "results2 = []\n",
        "for index, row in tqdm(df_stimuli2.iterrows(), total=df_stimuli2.shape[0]):\n",
        "\n",
        "  prob = next_seq_prob(gpt2, tokenizer, row['Sentence'], row['Word'])\n",
        "\n",
        "  results2.append({\n",
        "      'Word': row['Word'],\n",
        "      'Sentence': row['Sentence'],\n",
        "      'Condition': row['Condition'],\n",
        "      'Probability': prob,\n",
        "      'Surprisal': surprisal(prob)\n",
        "  })"
      ],
      "metadata": {
        "colab": {
          "base_uri": "https://localhost:8080/"
        },
        "id": "qMV6ky-mzKEo",
        "outputId": "b6849a71-c0fe-43a7-deba-715a60defae9"
      },
      "execution_count": null,
      "outputs": [
        {
          "output_type": "stream",
          "name": "stderr",
          "text": [
            "100%|██████████| 40/40 [00:07<00:00,  5.59it/s]\n"
          ]
        }
      ]
    },
    {
      "cell_type": "markdown",
      "source": [
        "## Visualizations"
      ],
      "metadata": {
        "id": "xTQYY1pU_cWt"
      }
    },
    {
      "cell_type": "code",
      "source": [
        "### Create Results DataFrame\n",
        "df_results1 = pd.DataFrame(results1)\n",
        "print(df_results1.head(2))\n",
        "print(df_results1.tail(2))"
      ],
      "metadata": {
        "colab": {
          "base_uri": "https://localhost:8080/"
        },
        "id": "-CMvtg_xAXqD",
        "outputId": "ba92d217-0c28-41b0-8e24-83643f24eecc"
      },
      "execution_count": null,
      "outputs": [
        {
          "output_type": "stream",
          "name": "stdout",
          "text": [
            "     Word                 Sentence             Condition  Probability  \\\n",
            "0    dumb  He is not stupid, he is  Semantically Similar     0.001045   \n",
            "1   smart  He is not stupid, he is      Logical Opposite     0.035664   \n",
            "\n",
            "   Surprisal  \n",
            "0   9.902919  \n",
            "1   4.809382  \n",
            "         Word                     Sentence  Condition  Probability  Surprisal\n",
            "28        shy       She is not shy, she is  Same Word     0.004458   7.809323\n",
            "29   outgoing  She is not outgoing, she is  Same Word     0.027708   5.173538\n"
          ]
        }
      ]
    },
    {
      "cell_type": "code",
      "source": [
        "### Create Results DataFrame\n",
        "df_results2 = pd.DataFrame(results2)\n",
        "print(df_results2.head(6))\n",
        "print(df_results2[30:32])"
      ],
      "metadata": {
        "colab": {
          "base_uri": "https://localhost:8080/"
        },
        "id": "z4IDvs_iAfX0",
        "outputId": "601a5bf4-312d-4b7b-dd5c-e0f8c3816ed5"
      },
      "execution_count": null,
      "outputs": [
        {
          "output_type": "stream",
          "name": "stdout",
          "text": [
            "      Word          Sentence               Condition  Probability  Surprisal\n",
            "0   rodent      A mouse is a     Affirmative-Correct     0.002521   8.631771\n",
            "1   rodent  A mouse is not a       Negated-Anomalous     0.004097   7.931074\n",
            "2      rat      A mouse is a     Affirmative-Related     0.001278   9.611483\n",
            "3      rat  A mouse is not a         Negated-Related     0.002322   8.750659\n",
            "4      cup      A mouse is a  Affirmative-Nonrelated     0.000044  14.481646\n",
            "5      cup  A mouse is not a      Negated-Nonrelated     0.000096  13.346035\n",
            "      Word          Sentence         Condition  Probability  Surprisal\n",
            "30   mouse      A mouse is a  Affirmative-Same     0.061630   4.020225\n",
            "31   mouse  A mouse is not a      Negated-Same     0.168431   2.569773\n"
          ]
        }
      ]
    },
    {
      "cell_type": "code",
      "source": [
        "### Semantically similar words vs. Logical opposites barplot\n",
        "sns.barplot(data = df_results1, x = \"Condition\", y = \"Surprisal\").set(title=\"Semantically similar words vs. Logical opposites\")"
      ],
      "metadata": {
        "colab": {
          "base_uri": "https://localhost:8080/",
          "height": 488
        },
        "id": "a6P1Lyc1_qpi",
        "outputId": "5c9f35c4-06a2-4b09-9752-0097a6593ea6"
      },
      "execution_count": null,
      "outputs": [
        {
          "output_type": "execute_result",
          "data": {
            "text/plain": [
              "[Text(0.5, 1.0, 'Semantically similar words vs. Logical opposites')]"
            ]
          },
          "metadata": {},
          "execution_count": 16
        },
        {
          "output_type": "display_data",
          "data": {
            "text/plain": [
              "<Figure size 640x480 with 1 Axes>"
            ],
            "image/png": "[encoded data removed]"
          },
          "metadata": {
            "image/png": {
              "width": 562,
              "height": 454
            }
          }
        }
      ]
    },
    {
      "cell_type": "code",
      "source": [
        "### Affirmative vs. Negated sentences barplot\n",
        "sns.barplot(data = df_results2, x = \"Condition\", y = \"Surprisal\").set(title=\"Affirmative vs. Negated sentences\")\n",
        "plt.xticks(rotation=45, ha='right')\n",
        "plt.tight_layout()"
      ],
      "metadata": {
        "colab": {
          "base_uri": "https://localhost:8080/",
          "height": 485
        },
        "id": "N4CW4wXd_YO-",
        "outputId": "a575138c-3c0f-407b-fd8f-c135d428963a"
      },
      "execution_count": null,
      "outputs": [
        {
          "output_type": "display_data",
          "data": {
            "text/plain": [
              "<Figure size 640x480 with 1 Axes>"
            ],
            "image/png": "[encoded data removed]"
          },
          "metadata": {
            "image/png": {
              "width": 627,
              "height": 468
            }
          }
        }
      ]
    },
    {
      "cell_type": "markdown",
      "source": [
        "# Results\n",
        "\n",
        "\n",
        "The surprisal for `semantically similar` completions was slightly larger than `logical opposite` completions. We predicted that this would occur if GPT-2 was sensitive to negation, but the `same word` completions had the smallest surprisal out of all the conditions, differing from their predicted surprisal (a larger surprisal than `logical opposite` completions).\n",
        "\n",
        "This was also true for the `affirmative` vs. `negated` sentence frames, where `same` word completions had the smallest surprisal out of all the conditions. For all of the `affirmative` vs. `negated` sentence frame conditions, the words in the `affirmative` conditions had higher surprisal than the words in the `negated` conditions, despite different semantic relations to the target word. The `non-related` words had the largest surprisal values which was not surprising, but it is hard to tell whether the high surprisal is a result of negation sensitivity or since they were the most likely words to not be associated with the subject in the sentence frame in the training data, or in real life. The `affirmative-correct` and `negated-anomalous` completions produced the second smallest surprisals out of the minimal pairs addressing the sentence frames, which meets expectations as producing a low surprisal for correctly phrased negation is the \"expected\" behavior for an LLM that is sensitive to negation."
      ],
      "metadata": {
        "id": "gYdLgdFXxzQ9"
      }
    },
    {
      "cell_type": "markdown",
      "source": [
        "# Discussion\n",
        "\n",
        "The results indicate that GPT-2 exhibits some limited sensitivity to semantic relationships under negation; however, it does not consistently demonstrate sensitivity to the logical meaning of negation itself. Specifically, surprisal was slightly higher for semantically similar completions compared to logical opposite completions, aligning with our prediction if the model was sensitive to negation. However, contrary to predictions, the surprisal for completions with the same word as the subject is lower than both of these conditions. This suggests that the differences may be due to token familiarity and frequency rather than logical reasoning for negation. This can also be inferred from the results of using affirmative and negated sentence frames, where broader yet semantically related words produced higher surprisal within affirmative conditions rather than negated conditions. Overall, these findings suggest that GPT-2 does not seem to be fully sensitive to negation in the way that humans are.\n",
        "\n",
        "\n",
        "These results reflect the capabilities of large language models to capture different dimensions of meaning with distributional semantics, specifically their ability to understand logic-based semantics. LLMs such as GPT-2 may struggle with generalization when using logic-based rules; they tend to ignore how terms with logical rules can alter sentence meaning and focus more on predicting words that are commonly found within the same context. This suggests that even pretrained LLMs may lack a systemic understanding of logic-based rules, instead relying on surface-level statistical associations learned during training.\n",
        "\n",
        "The mismatch between GPT-2's performance on negation tasks and human expectations calls into question what information is necessary for logic-based semantic understanding. Although negation is a frequent construction in language, it is hard to capture the information needed to structure the logic of the term when an understanding of what a subject \"is not\" requires a vast understanding of what an object \"is\". Humans perform similarly to LLMs when asked to \"not\" think of something and tend to think about the subject they were asked not to think about. This doesn't imply that humans do not understand negation, but rather that thinking about a logical opposite in an open-ended manner is a hard task to accomplish due to the infinite amount of words that could qualify as logical opposites. Despite this, humans are more capable of reflective responses to negation and being able to reason through their answers. This may be reflected in more modern LLMs, where negation sensitivity may be higher due to their training shifting away from shallow processing and more towards chain-of-thought reasoning."
      ],
      "metadata": {
        "id": "L-tYcG-wyv9Z"
      }
    },
    {
      "cell_type": "markdown",
      "source": [
        "## **Ignore this text box:** The downloaded PDF cuts off the paragraph above this text box if this is not included.\n",
        "## **Ignore this text box:** The downloaded PDF cuts off the paragraph above this text box if this is not included.\n",
        "## **Ignore this text box:** The downloaded PDF cuts off the paragraph above this text box if this is not included.\n",
        "## **Ignore this text box:** The downloaded PDF cuts off the paragraph above this text box if this is not included.\n",
        "## **Ignore this text box:** The downloaded PDF cuts off the paragraph above this text box if this is not included."
      ],
      "metadata": {
        "id": "_fKVqFWdv_aH"
      }
    }
  ]
}